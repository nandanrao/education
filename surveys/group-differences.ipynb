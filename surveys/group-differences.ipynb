{
 "cells": [
  {
   "cell_type": "code",
   "execution_count": null,
   "metadata": {
    "autoscroll": false,
    "collapsed": false,
    "ein.tags": "worksheet-0",
    "slideshow": {
     "slide_type": "-"
    }
   },
   "outputs": [],
   "source": [
    "%pylab inline\n",
    "%load_ext autoreload\n",
    "%autoreload 2\n",
    "\n",
    "# Run this notebook outside of main module tree\n",
    "import os\n",
    "import sys\n",
    "nb_dir = os.path.split(os.getcwd())[0]\n",
    "if nb_dir not in sys.path:\n",
    "    sys.path.append(nb_dir)\n",
    "\n",
    "# ignore warnings!\n",
    "import warnings\n",
    "warnings.filterwarnings('ignore')\n"
   ]
  },
  {
   "cell_type": "code",
   "execution_count": 5,
   "metadata": {
    "autoscroll": false,
    "collapsed": false,
    "ein.tags": "worksheet-0",
    "slideshow": {
     "slide_type": "-"
    }
   },
   "outputs": [],
   "source": [
    "import pandas as pd\n",
    "import numpy as np\n",
    "import seaborn as sns\n",
    "import matplotlib.pyplot as plt"
   ]
  },
  {
   "cell_type": "code",
   "execution_count": 6,
   "metadata": {
    "autoscroll": false,
    "collapsed": false,
    "ein.tags": "worksheet-0",
    "slideshow": {
     "slide_type": "-"
    }
   },
   "outputs": [],
   "source": [
    "from surveys.personality import *\n",
    "from utils.factors import *\n",
    "from factor_rotation._analytic_rotation import target_rotation\n",
    "from factor_rotation._gpa_rotation import orthomax_objective, GPA, rotateA as rotate\n",
    "from factor_rotation._wrappers import rotate_factors"
   ]
  },
  {
   "cell_type": "code",
   "execution_count": 11,
   "metadata": {
    "autoscroll": false,
    "collapsed": false,
    "ein.tags": "worksheet-0",
    "slideshow": {
     "slide_type": "-"
    }
   },
   "outputs": [],
   "source": [
    "surveys = read_surveys('../data')\n"
   ]
  },
  {
   "cell_type": "code",
   "execution_count": 839,
   "metadata": {
    "autoscroll": false,
    "collapsed": false,
    "ein.tags": "worksheet-0",
    "slideshow": {
     "slide_type": "-"
    }
   },
   "outputs": [],
   "source": [
    "def get_scores(model, X, y, name, cv=cv):\n",
    "    scores = cross_val_score(model, X, y, cv=cv)\n",
    "    return pd.DataFrame([{'model': name, 'mean': scores.mean(), 'std': scores.std()}]).set_index('model')"
   ]
  },
  {
   "cell_type": "code",
   "execution_count": null,
   "metadata": {
    "autoscroll": false,
    "collapsed": false,
    "ein.tags": "worksheet-0",
    "slideshow": {
     "slide_type": "-"
    }
   },
   "outputs": [],
   "source": [
    "from sklearn.model_selection import cross_val_predict, cross_val_score, KFold\n",
    "\n",
    "X = prep_X(surveys)\n",
    "y = surveys.group == 'c'\n",
    "cv = ShuffleSplit(n_splits=100, test_size = 0.2, random_state=1)"
   ]
  },
  {
   "cell_type": "code",
   "execution_count": 840,
   "metadata": {
    "autoscroll": false,
    "collapsed": false,
    "ein.tags": "worksheet-0",
    "slideshow": {
     "slide_type": "-"
    }
   },
   "outputs": [
    {
     "data": {
      "text/plain": [
       "           mean       std\nmodel                    \nLDA    0.555263  0.096296"
      ]
     },
     "execution_count": 840,
     "metadata": {},
     "output_type": "execute_result"
    }
   ],
   "source": [
    "from sklearn.discriminant_analysis import LinearDiscriminantAnalysis, QuadraticDiscriminantAnalysis\n",
    "\n",
    "model = LinearDiscriminantAnalysis(store_covariance=True)\n",
    "ld_factor = model.fit_transform(X, y)[:,0]\n",
    "get_scores(model, X, y, 'LDA')"
   ]
  },
  {
   "cell_type": "code",
   "execution_count": 841,
   "metadata": {
    "autoscroll": false,
    "collapsed": false,
    "ein.tags": "worksheet-0",
    "slideshow": {
     "slide_type": "-"
    }
   },
   "outputs": [
    {
     "data": {
      "text/plain": [
       "              mean      std\nmodel                      \nLogistic  0.595263  0.09347"
      ]
     },
     "execution_count": 841,
     "metadata": {},
     "output_type": "execute_result"
    }
   ],
   "source": [
    "from sklearn.linear_model import LogisticRegression\n",
    "\n",
    "model = LogisticRegression(C=.5)\n",
    "model.fit(X, y)\n",
    "logistic_factor = X.dot(model.coef_[0,:])\n",
    "get_scores(model, X, y, 'Logistic')"
   ]
  },
  {
   "cell_type": "code",
   "execution_count": 843,
   "metadata": {
    "autoscroll": false,
    "collapsed": false,
    "ein.tags": "worksheet-0",
    "slideshow": {
     "slide_type": "-"
    }
   },
   "outputs": [
    {
     "data": {
      "text/plain": [
       "       mean       std\nmodel                \nSVM    0.59  0.097417"
      ]
     },
     "execution_count": 843,
     "metadata": {},
     "output_type": "execute_result"
    }
   ],
   "source": [
    "from sklearn.svm import LinearSVC, SVC\n",
    "\n",
    "model = LinearSVC(C=1.)\n",
    "model.fit(X, y)\n",
    "svc_factor = X.dot(model.coef_[0,:])\n",
    "get_scores(model, X, y, 'SVM')"
   ]
  },
  {
   "cell_type": "code",
   "execution_count": 844,
   "metadata": {
    "autoscroll": false,
    "collapsed": false,
    "ein.tags": "worksheet-0",
    "slideshow": {
     "slide_type": "-"
    }
   },
   "outputs": [],
   "source": [
    "from sklearn.decomposition import PCA\n",
    "\n",
    "princ_comps = PCA(n_components=5).fit_transform(X)\n",
    "bf_survey = X.iloc[:, 0:65]\n",
    "bigfive_key = pd.read_csv(\"../data/educatalyst/Auxil/q1_key_bigfive.csv\", encoding='ISO-8859-1')\n",
    "bf_comps = get_big_five_comps(bigfive_key)\n",
    "bigfive = big_five_projection(bigfive_key, bf_survey)\n",
    "teique = X.filter(regex=\"^3\")\n",
    "grit = X.filter(regex=\"^4\")"
   ]
  },
  {
   "cell_type": "code",
   "execution_count": 845,
   "metadata": {
    "autoscroll": false,
    "collapsed": false,
    "ein.tags": "worksheet-0",
    "slideshow": {
     "slide_type": "-"
    }
   },
   "outputs": [
    {
     "data": {
      "text/plain": [
       "                                  mean       std\nmodel                                           \nLogistic: Grit                0.561053  0.097679\nLogistic: Teique              0.596842  0.101025\nLogistic: Big Five            0.538947  0.111430\nLogistic: PCA on all Surveys  0.497895  0.109752"
      ]
     },
     "execution_count": 845,
     "metadata": {},
     "output_type": "execute_result"
    }
   ],
   "source": [
    "model = LogisticRegression(C=.5)\n",
    "\n",
    "li = [(grit, \"Logistic: Grit\"),\n",
    "      (teique, \"Logistic: Teique\"),\n",
    "      (bigfive, \"Logistic: Big Five\"),\n",
    "      (princ_comps, \"Logistic: PCA on all Surveys\")]\n",
    "\n",
    "pd.concat([get_scores(model, x, y, n) for x,n in li])"
   ]
  },
  {
   "cell_type": "code",
   "execution_count": 694,
   "metadata": {
    "autoscroll": false,
    "collapsed": false,
    "ein.tags": "worksheet-0",
    "slideshow": {
     "slide_type": "slide"
    }
   },
   "outputs": [
    {
     "data": {
      "text/plain": [
       "          0         0         0         0\n0  0.047290  0.045018  0.067458  0.041342\n1  0.011719  0.015875  0.016532  0.030283\n2 -0.111763 -0.153912 -0.195607 -0.148115\n3 -0.143229 -0.190179 -0.090641 -0.060674\n4 -0.010267 -0.029111 -0.185912 -0.115046"
      ]
     },
     "execution_count": 694,
     "metadata": {},
     "output_type": "execute_result"
    }
   ],
   "source": [
    "m = bigfive.as_matrix()\n",
    "# np.corrcoef(bigfive.as_matrix(), ridge_factor)\n",
    "def get_corr(bf, m):\n",
    "    try: \n",
    "        bf = bf.as_matrix()\n",
    "    except AttributeError:\n",
    "        bf = bf\n",
    "    return pd.DataFrame([np.corrcoef(i, m)[0,1] for i in bf.T])\n",
    "     \n",
    "pd.concat([get_corr(bigfive, ld_factor), get_corr(bigfive, logistic_factor), get_corr(princ_comps, logistic_factor), get_corr(princ_comps, ld_factor)], axis=1)"
   ]
  },
  {
   "cell_type": "code",
   "execution_count": 846,
   "metadata": {
    "autoscroll": false,
    "collapsed": false,
    "ein.tags": "worksheet-0",
    "slideshow": {
     "slide_type": "-"
    }
   },
   "outputs": [
    {
     "data": {
      "text/plain": [
       "array([ 0.53571429,  0.46428571,  0.38461538])"
      ]
     },
     "execution_count": 846,
     "metadata": {},
     "output_type": "execute_result"
    }
   ],
   "source": [
    "from sklearn.linear_model import LogisticRegression\n",
    "\n",
    "model = PLSSVD(n_components=5)\n",
    "model.fit(X1, X2)\n",
    "\n",
    "def make_transformed_training(A,B):\n",
    "    a = np.repeat(1, A.shape[0])\n",
    "    b = np.repeat(0, B.shape[0])\n",
    "    groups = np.concatenate([a,b])\n",
    "    return np.concatenate([A, B]), groups\n",
    "    \n",
    "# np.array.concat(model.x_scores_, model.y_scores_)\n",
    "X, y = make_transformed_training(model.x_scores_, model.y_scores_)\n",
    "model = LogisticRegression()\n",
    "cross_val_score(model, X, y)"
   ]
  }
 ],
 "metadata": {
  "name": "group-differences.ipynb"
 },
 "nbformat": 4,
 "nbformat_minor": 2
}
