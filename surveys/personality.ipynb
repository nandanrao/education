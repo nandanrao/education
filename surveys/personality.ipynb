{
 "cells": [
  {
   "cell_type": "markdown",
   "metadata": {
    "ein.tags": "worksheet-0",
    "slideshow": {
     "slide_type": "slide"
    }
   },
   "source": [
    "# Personality\n",
    "\n",
    "## Intro\n",
    "The purpose of this notebook is to explore the relationship and possibility of making connecctions between the big five personality test and the \"other\" personality tests administered in the experiment. We first want to understand if and how results from the other tests can be used to determine (\"predict\") the students traits along the big five factors. These techniques can then be extended to forms other than surveys. The other area of interest is whether or not the \"other\" surveys describe some factors or traits or variance among the students that is NOT described by the big five personality factors. "
   ]
  },
  {
   "cell_type": "code",
   "execution_count": null,
   "metadata": {
    "autoscroll": false,
    "collapsed": false,
    "ein.tags": "worksheet-0",
    "slideshow": {
     "slide_type": "skip"
    }
   },
   "outputs": [],
   "source": [
    "!pip install --upgrade pandas\n",
    "!pip install --upgrade sklearn"
   ]
  },
  {
   "cell_type": "code",
   "execution_count": 2,
   "metadata": {
    "autoscroll": false,
    "collapsed": false,
    "ein.tags": "worksheet-0",
    "slideshow": {
     "slide_type": "skip"
    }
   },
   "outputs": [],
   "source": [
    "import pandas as pd\n",
    "import numpy as np\n",
    "import seaborn as sns\n",
    "import matplotlib.pyplot as plt\n",
    "from sklearn.decomposition import SparsePCA, PCA\n",
    "from sklearn.preprocessing import scale, normalize\n",
    "from sklearn.metrics.pairwise import pairwise_distances\n",
    "from sklearn.model_selection import GridSearchCV, KFold, cross_val_score"
   ]
  },
  {
   "cell_type": "code",
   "execution_count": 4,
   "metadata": {
    "autoscroll": false,
    "collapsed": false,
    "ein.tags": "worksheet-0",
    "slideshow": {
     "slide_type": "skip"
    }
   },
   "outputs": [],
   "source": [
    "import personality\n",
    "from personality import *"
   ]
  },
  {
   "cell_type": "code",
   "execution_count": null,
   "metadata": {
    "autoscroll": false,
    "collapsed": false,
    "ein.tags": "worksheet-0",
    "slideshow": {
     "slide_type": "skip"
    }
   },
   "outputs": [],
   "source": [
    "from factor_rotation._wrappers import rotate_factors"
   ]
  },
  {
   "cell_type": "code",
   "execution_count": null,
   "metadata": {
    "autoscroll": false,
    "collapsed": false,
    "ein.tags": "worksheet-0",
    "slideshow": {
     "slide_type": "slide"
    }
   },
   "outputs": [],
   "source": [
    "X = prep_X(read_surveys())\n",
    "bf_survey = X.iloc[:, 0:65]\n",
    "bf_survey_scaled = pd.DataFrame(scale(bf_survey))\n",
    "others = X.iloc[:, 65:]\n",
    "others_scaled = pd.DataFrame(scale(others))\n",
    "ids = read_surveys().user_id\n",
    "\n",
    "# Get the big five components, sparse positie loadings for the questions that\n",
    "# refer to personality traits. \n",
    "bigfive_key = pd.read_csv(\"educatalyst/Auxil/q1_key_bigfive.csv\")\n",
    "bf_comps = get_big_five_comps(bigfive_key)\n",
    "\n",
    "# Projec the survey data onto those big five personality components\n",
    "bigfive = big_five_projection(bigfive_key, bf_survey)\n",
    "bigfive_scaled = big_five_projection(bigfive_key, bf_survey_scaled)"
   ]
  },
  {
   "cell_type": "code",
   "execution_count": null,
   "metadata": {
    "autoscroll": false,
    "collapsed": false,
    "ein.tags": "worksheet-0",
    "slideshow": {
     "slide_type": "-"
    }
   },
   "outputs": [],
   "source": []
  },
  {
   "cell_type": "code",
   "execution_count": 5,
   "metadata": {
    "autoscroll": false,
    "collapsed": false,
    "ein.tags": "worksheet-0",
    "slideshow": {
     "slide_type": "skip"
    }
   },
   "outputs": [],
   "source": [
    "bigfive.to_csv(\"clean_data/bigfive.csv\", index=False)\n",
    "bf_survey.to_csv(\"clean_data/bigfive_survey.csv\", index=False)\n",
    "others.to_csv(\"clean_data/others.csv\", index=False)"
   ]
  },
  {
   "cell_type": "markdown",
   "metadata": {
    "ein.tags": "worksheet-0",
    "slideshow": {
     "slide_type": "slide"
    }
   },
   "source": [
    "## Regression\n",
    "\n",
    "Predicting bigfive personality traits from the \"other\" surveys is treated as a multiple regression problem. \n",
    "\n",
    "The big five components are, as traditional, seen as latent factors achieved through linear combination in the original survey dimensions. In other words, the factors themselves exist within the dimensions of the original data, the creation of the factors being dot products, or projections, down into a subspace within the span of the surveys. For this reason, we start with a similar approach when attempting to translate from the space of the \"other\" surveys, looking for factors within the subspace of their span that relate to the big five factors. It is worth considering here, however, why this translation needs to be linear, or why the \"big five\" factor must be within a subspace spanned by these other surveys. This will be an even bigger question once we move on to forms of data that don't demand linear combinations in the same way (EEG, for example).\n",
    "\n",
    "Given the small number of observations and high dimensions, we will definitely need to regularize, and as such we use cross-validation to tune those hyperparameters. The big five loadings are sparse, and the creators of these surveys create questions with the explicit intention of avoiding overlap, and as such we have reason to favor sparsity in the translation from \"other\" surveys to big five traits, which is why we use Elastic Net, cross validate the parameters, and pick those within the top 15% that are most aggressive on Sparsity. This is completely arbitrary. "
   ]
  },
  {
   "cell_type": "code",
   "execution_count": 6,
   "metadata": {
    "autoscroll": false,
    "collapsed": false,
    "ein.tags": "worksheet-0",
    "slideshow": {
     "slide_type": "fragment"
    }
   },
   "outputs": [],
   "source": [
    "cv = KFold(3, random_state = 1, shuffle = True)\n",
    "t = bigfive.as_matrix()[:, [0,1,2,4]]\n",
    "m = GridSearchCV(MultiElasticNet(), \n",
    "                 {'alpha': np.arange(0.05, 1.5, .05), \n",
    "                  'l1_ratio': np.arange(0.2, 1.0, .05)}, \n",
    "                 cv = cv, \n",
    "                 scoring='neg_mean_squared_error')\n",
    "res = pd.DataFrame(m.fit(others, t).cv_results_)"
   ]
  },
  {
   "cell_type": "code",
   "execution_count": null,
   "metadata": {
    "autoscroll": false,
    "collapsed": false,
    "ein.tags": "worksheet-0",
    "slideshow": {
     "slide_type": "-"
    }
   },
   "outputs": [],
   "source": [
    "# Visually inspect the top 15% performing params and pick the most aggresive. \n",
    "(res[res.mean_test_score > np.percentile(res.mean_test_score, 85) ]\n",
    " .sort_values(['param_l1_ratio', 'param_alpha'], \n",
    "              ascending = False)\n",
    " .head(20)[['params', 'mean_test_score']])"
   ]
  },
  {
   "cell_type": "code",
   "execution_count": 9,
   "metadata": {
    "autoscroll": false,
    "collapsed": false,
    "ein.tags": "worksheet-0",
    "slideshow": {
     "slide_type": "-"
    }
   },
   "outputs": [
    {
     "data": {
      "text/plain": [
       "(-2.7456783152161344,\n",
       " {'alpha': 0.55000000000000004, 'l1_ratio': 0.20000000000000001})"
      ]
     },
     "execution_count": 9,
     "metadata": {},
     "output_type": "execute_result"
    }
   ],
   "source": [
    "# Compare with the best params\n",
    "m.best_score_, m.best_params_"
   ]
  },
  {
   "cell_type": "code",
   "execution_count": null,
   "metadata": {
    "autoscroll": false,
    "collapsed": false,
    "ein.tags": "worksheet-0",
    "slideshow": {
     "slide_type": "-"
    }
   },
   "outputs": [],
   "source": [
    "# using the most agressive sparsity-inducing params from the top 15% cv'd scores\n",
    "enet = MultiElasticNet(alpha = 0.4, l1_ratio = .5)\n",
    "t = bigfive.as_matrix()\n",
    "fitted = enet.fit(others, t)\n",
    "reg_comps = normalize(enet.coef_).T\n",
    "\n",
    "# Take a look at how sparse our loadings are:\n",
    "cross_val_score(enet, others, t, cv = cv, scoring = 'neg_mean_squared_error').mean(), enet.coef_"
   ]
  },
  {
   "cell_type": "markdown",
   "metadata": {
    "ein.tags": "worksheet-0",
    "slideshow": {
     "slide_type": "-"
    }
   },
   "source": [
    "## Validating the Regression\n",
    "\n",
    "One often considers grades and scores to be consistent across monotone transformations, they are ordinal measures rather than cardinal ones. It is worth considering whether or not this applies here. Do we care about the accuracy of prediction in a cardinal sense, or do we care about maintaining the order of the students relative to each other? Beyond justathe order, does some maintainence of student-student distance matter, even regardless of cardinal discrepency?? \n",
    "\n",
    "For the ordinal case, we take a look at how well we maintain order along each factor by considering the Kendall Tau distance between the two orderings. This is simply the first idea I thought of. I have no idea how to put these scores in perspective. \n",
    "\n",
    "On the cardinal scale a natural starting place is the out-of-sample R^2, of course. The average across 3-fold validation is reported below.\n",
    "\n",
    "For distance maintainence we explore simply comparing the distance matrices via their covariance-weighted L2 norm (mahalanobis distance).\n",
    "\n",
    "The real question here is: how do we validate (and indeed, fit) our regression model. What is our cost? What is the most important? What constitutes an \"accurate\" mapping onto the big five personality traits?? "
   ]
  },
  {
   "cell_type": "code",
   "execution_count": null,
   "metadata": {
    "autoscroll": false,
    "collapsed": false,
    "ein.tags": "worksheet-0",
    "slideshow": {
     "slide_type": "-"
    }
   },
   "outputs": [],
   "source": [
    "# do we want correlation coef or pvalue????? Is this bad or good??? \n",
    "compare_factors(one, bf_comps, others, reg_comps)"
   ]
  },
  {
   "cell_type": "code",
   "execution_count": 10,
   "metadata": {
    "autoscroll": false,
    "collapsed": false,
    "ein.tags": "worksheet-0",
    "slideshow": {
     "slide_type": "-"
    }
   },
   "outputs": [
    {
     "data": {
      "text/plain": [
       "array([ 0.41034834,  0.39969478,  0.42691796])"
      ]
     },
     "execution_count": 10,
     "metadata": {},
     "output_type": "execute_result"
    }
   ],
   "source": [
    "cross_val_score(enet, others, t, cv = cv)"
   ]
  },
  {
   "cell_type": "code",
   "execution_count": 11,
   "metadata": {
    "autoscroll": false,
    "collapsed": false,
    "ein.tags": "worksheet-0",
    "slideshow": {
     "slide_type": "-"
    }
   },
   "outputs": [
    {
     "data": {
      "text/plain": [
       "0.3229679554549284"
      ]
     },
     "execution_count": 11,
     "metadata": {},
     "output_type": "execute_result"
    }
   ],
   "source": [
    "normed_reg_vectors = normalize(enet.coef_).T\n",
    "bf_mapping = others.dot(normed_reg_vectors)\n",
    "\n",
    "compare_distance(bigfive, bf_mapping)"
   ]
  },
  {
   "cell_type": "markdown",
   "metadata": {
    "ein.tags": "worksheet-0",
    "slideshow": {
     "slide_type": "-"
    }
   },
   "source": [
    "## Measuring Lost Variance\n",
    "\n",
    "The other half of the exploration is an attempt to determine if there are other major aspects of the students' personalities that the \"other\" surveys are measuring that are LOST when it is all translated into the big five factors. \n",
    "\n",
    "To do this we try to compare the variance of the data (induced by a sparse PCA to regularize) with the variance of our big five projections, in both the big five surveys and the \"others\". "
   ]
  },
  {
   "cell_type": "code",
   "execution_count": 12,
   "metadata": {
    "autoscroll": false,
    "collapsed": false,
    "ein.tags": "worksheet-0",
    "slideshow": {
     "slide_type": "-"
    }
   },
   "outputs": [],
   "source": [
    "def get_projected_variance(df, comps, p = 5):\n",
    "    projected = df.dot(normalize(comps).T)\n",
    "    v =  np.var(projected)/np.var(df).sum() * 100 \n",
    "    print 'Summed variance of first %s components: %s' % (p,v[0:p].sum())\n",
    "    return v"
   ]
  },
  {
   "cell_type": "markdown",
   "metadata": {
    "ein.tags": "worksheet-0",
    "slideshow": {
     "slide_type": "-"
    }
   },
   "source": [
    "### In the space of the \"Others\" survey:"
   ]
  },
  {
   "cell_type": "code",
   "execution_count": 13,
   "metadata": {
    "autoscroll": false,
    "collapsed": false,
    "ein.tags": "worksheet-0",
    "slideshow": {
     "slide_type": "-"
    }
   },
   "outputs": [
    {
     "name": "stdout",
     "output_type": "stream",
     "text": [
      "Summed variance of first 5 components: 39.3411583718\n"
     ]
    },
    {
     "data": {
      "text/plain": [
       "0    8.672467\n",
       "1    8.002980\n",
       "2    8.666931\n",
       "3    6.349644\n",
       "4    7.649137\n",
       "dtype: float64"
      ]
     },
     "execution_count": 13,
     "metadata": {},
     "output_type": "execute_result"
    }
   ],
   "source": [
    "# Variance described by Big Five Regression from others survey space\n",
    "get_projected_variance(others, enet.coef_)"
   ]
  },
  {
   "cell_type": "code",
   "execution_count": 352,
   "metadata": {
    "autoscroll": false,
    "collapsed": false,
    "ein.tags": "worksheet-0",
    "slideshow": {
     "slide_type": "-"
    }
   },
   "outputs": [
    {
     "name": "stdout",
     "output_type": "stream",
     "text": [
      "Summed variance of first 5 components: 46.0333921325\n",
      "Summed variance of first 5 components: 46.0333921325\n"
     ]
    },
    {
     "data": {
      "text/plain": [
       "array([[ 18.40555681,  11.99694605,   6.14657412,   5.06260598,\n",
       "          4.42170918],\n",
       "       [ 13.9356478 ,   7.4355079 ,   7.79088151,   9.59363506,\n",
       "          7.27771987]])"
      ]
     },
     "execution_count": 352,
     "metadata": {},
     "output_type": "execute_result"
    }
   ],
   "source": [
    "# Variance described by pure PCA of others survey space\n",
    "others_pca = PCA(5).fit(others_scaled)\n",
    "# get_projected_variance(others, others_pca.components_)\n",
    "A = others_pca.components_\n",
    "V, T = rotate_factors(A.T, 'varimax')\n",
    "np.stack([get_projected_variance(others_scaled, A), get_projected_variance(others_scaled, V.T)])"
   ]
  },
  {
   "cell_type": "code",
   "execution_count": 319,
   "metadata": {
    "autoscroll": false,
    "collapsed": false,
    "ein.tags": "worksheet-0",
    "slideshow": {
     "slide_type": "-"
    }
   },
   "outputs": [],
   "source": [
    "# projection of X into subspace of V\n",
    "P = V.dot(V.T)\n",
    "X_proj = others_scaled.dot(P)\n",
    "np.allclose(X_proj, X_proj.dot(P))\n",
    "\n",
    "bf_proj = bigfive.dot(bf_comps.T).shape"
   ]
  },
  {
   "cell_type": "code",
   "execution_count": 385,
   "metadata": {
    "autoscroll": false,
    "collapsed": false,
    "ein.tags": "worksheet-0",
    "slideshow": {
     "slide_type": "-"
    }
   },
   "outputs": [
    {
     "name": "stdout",
     "output_type": "stream",
     "text": [
      "10.1224800384 4.21183043173\n",
      "0.265380316984\n",
      "0.460333921325\n",
      "[[-31.   2. -45.  21. -20.]\n",
      " [-11.  -5. -31.   9.  40.]\n",
      " [-43.  10. -15. -31.   1.]\n",
      " [ -4.   7. -60.  18.  31.]\n",
      " [ 35.  -2. -14. -19.  26.]\n",
      " [ 28.   7.  20. -27.  29.]\n",
      " [ -4.  46.  12. -18.  24.]\n",
      " [ -6.  28. -20.  -6.  39.]\n",
      " [-55.   6. -13. -21.  -5.]\n",
      " [ 20.  -2. -15. -19.  68.]\n",
      " [-51.  11. -25. -19. -14.]\n",
      " [ 15.  15. -40.  -1.  42.]\n",
      " [ 19.  -4. -36.  -3.  35.]\n",
      " [-14.  41. -35.   8.  22.]\n",
      " [-28.  10.  34. -34. -14.]\n",
      " [  4.   1.  29. -49.  17.]\n",
      " [-12.   1.   6. -49.   3.]\n",
      " [ 13.  19.  -9.  -1.  47.]\n",
      " [-39.  25.   8. -22. -25.]\n",
      " [-66.  16. -16.  -9.   2.]\n",
      " [-34.  -3.   3. -41. -15.]\n",
      " [-26.  63.   4.  -1.   2.]\n",
      " [-22.  -8. -55.  -1.  13.]\n",
      " [-68.  15. -14.  -9. -13.]\n",
      " [ -2.  34. -13.   1.  48.]\n",
      " [ -8. -15.  -3. -28.  43.]\n",
      " [-58.  14.  -4. -13. -15.]\n",
      " [ 12. -23.   0. -54.  31.]\n",
      " [-33.   4.   6. -55.  22.]\n",
      " [-18.   6.  39. -54.  10.]\n",
      " [-22.  38.   2.  -9.  23.]\n",
      " [-10. -35.   4. -49.  -2.]\n",
      " [ -3.  28.   1. -12.  48.]\n",
      " [-40. -10. -45.  -3.  -8.]\n",
      " [ -8.  52.  -8.  12.  42.]\n",
      " [  4.  31.  -3. -14.  60.]\n",
      " [-15. -52. -32. -28.  -5.]\n",
      " [-44. -10. -25. -19. -26.]]\n"
     ]
    }
   ],
   "source": [
    "others_pca = PCA(5).fit(others_scaled)\n",
    "\n",
    "A = others_pca.components_\n",
    "V_orth, T = rotate_factors(A.T, 'varimax')\n",
    "V, T = rotate_factors(A.T, 'oblimin', .635, 'oblique')\n",
    "\n",
    "\n",
    "# Comparing the LL' - \\Psi to \\Sigma! <-- error rate to optimize?? This is for orthogonality??\n",
    "dif = np.cov(others_scaled.T) - V.dot(V.T)\n",
    "off_diag = dif - np.diag(np.diag(dif))\n",
    "print np.linalg.norm(np.cov(others_scaled.T)), np.linalg.norm(off_diag)\n",
    "\n",
    "# np.diag(np.mean(F.dot(F.T)))\n",
    "# others_scaled.dot(A.T)\n",
    "# normalize(V)\n",
    "# fit the form of Ax = B, we need to transpose everything from our basic X = FL' form\n",
    "F = np.linalg.lstsq(V, others_scaled.T)[0].T\n",
    "\n",
    "# Ratio norm of difference between projected others_scaled\n",
    "print 1 - np.linalg.norm(others_scaled - F.dot(V.T))/np.linalg.norm(others_scaled)\n",
    "# Ratio of variane between projected and others_scaled\n",
    "print 1 - np.var(others_scaled - F.dot(V.T)).sum() / np.var(others_scaled).sum()\n",
    "\n",
    "# This is only the same if we go with orthogonal factors!\n",
    "# F = others_scaled.dot(V)\n",
    "\n",
    "# Look at loadings matrix just like in Norman paper :D\n",
    "print np.round(V * 100)"
   ]
  },
  {
   "cell_type": "code",
   "execution_count": 366,
   "metadata": {
    "autoscroll": false,
    "collapsed": false,
    "ein.tags": "worksheet-0",
    "slideshow": {
     "slide_type": "-"
    }
   },
   "outputs": [
    {
     "data": {
      "text/plain": [
       "           0         1         2         3         4\n",
       "0   0.114428 -0.081999 -0.423778 -0.026029  0.043355\n",
       "1   0.066159 -0.011704 -0.341921 -0.114547  0.028553\n",
       "2  -0.359705 -0.020380  0.053662 -0.209056  0.074850\n",
       "3   0.072969 -0.328216 -0.197691 -0.124829  0.014553\n",
       "4  -0.324387 -0.008756 -0.040283 -0.128075  0.155258\n",
       "5  -0.100529 -0.296094 -0.072126  0.272613  0.045509\n",
       "6  -0.446333 -0.099313  0.104699 -0.152686  0.005371\n",
       "7  -0.291759 -0.046438  0.135697  0.223330  0.144850\n",
       "8  -0.144988  0.116285 -0.042289  0.190535  0.305285\n",
       "9  -0.110010  0.053348 -0.075334 -0.088001  0.170248\n",
       "10 -0.161549  0.055493 -0.107693 -0.438585  0.001047\n",
       "11 -0.452604 -0.043516  0.061166  0.001803  0.220291\n",
       "12 -0.051169 -0.210754 -0.301298 -0.043990  0.127700\n",
       "13 -0.034758  0.145170 -0.167720 -0.103952  0.332482\n",
       "14 -0.086849 -0.197467  0.005752  0.187919  0.302238\n",
       "15 -0.062796 -0.338078 -0.276417 -0.049188 -0.109744\n",
       "16 -0.056524 -0.257906 -0.104384  0.358548  0.153357\n",
       "17 -0.412771 -0.013902  0.049078 -0.061842  0.196138\n",
       "18  0.145929 -0.074065 -0.456509 -0.101557  0.087250\n",
       "19 -0.235252 -0.115157 -0.175191 -0.122176  0.102868\n",
       "20 -0.128931 -0.105924 -0.122685 -0.265727 -0.090030\n",
       "21 -0.393765 -0.098973  0.054237 -0.254563 -0.029818\n",
       "22 -0.012094  0.249332 -0.112177  0.002481  0.323996\n",
       "23 -0.349394 -0.296772  0.062329  0.033658 -0.037799\n",
       "24 -0.288705  0.041742  0.114693 -0.246042  0.030605\n",
       "25 -0.049418  0.209830 -0.190411  0.061647  0.382684\n",
       "26 -0.070915  0.033926 -0.267389 -0.395601  0.016218\n",
       "27 -0.135864 -0.011350 -0.101012 -0.474603 -0.028440\n",
       "28 -0.122937 -0.353532 -0.001487  0.016886  0.076699\n",
       "29 -0.482545 -0.062003  0.117060 -0.102525  0.100598\n",
       "..       ...       ...       ...       ...       ...\n",
       "35 -0.119584 -0.005523 -0.142278  0.025222 -0.009474\n",
       "36 -0.142503  0.309587  0.074464 -0.247684  0.127660\n",
       "37 -0.132983 -0.034421 -0.178642 -0.360991  0.051971\n",
       "38 -0.190918  0.009261  0.049017 -0.020016  0.409868\n",
       "39  0.120382 -0.110337 -0.453606 -0.060170  0.140027\n",
       "40 -0.146725 -0.073415 -0.014101  0.131262  0.494177\n",
       "41 -0.051093  0.069709 -0.205065  0.096281  0.306820\n",
       "42 -0.188544 -0.042235 -0.044189  0.124358  0.357309\n",
       "43 -0.199134  0.047629 -0.070732 -0.063055  0.398867\n",
       "44 -0.042797 -0.262087 -0.356707 -0.081245 -0.101163\n",
       "45 -0.364993  0.011120  0.090748 -0.148080  0.134460\n",
       "46  0.061642 -0.034324 -0.322402 -0.280301  0.024715\n",
       "47 -0.256823 -0.036652  0.072552 -0.250498  0.021778\n",
       "48 -0.010010 -0.355630 -0.120999  0.200588  0.194409\n",
       "49 -0.079313  0.011176 -0.215649  0.109546  0.216814\n",
       "50 -0.077821 -0.084705 -0.141060 -0.328764 -0.013370\n",
       "51 -0.372862 -0.184060 -0.027536 -0.162566  0.038672\n",
       "52 -0.322117  0.066055  0.151046 -0.196164  0.073704\n",
       "53  0.041483 -0.064540 -0.041784 -0.026763  0.369933\n",
       "54  0.057921  0.057260 -0.286701  0.122319  0.324510\n",
       "55 -0.157187 -0.047269 -0.053293 -0.142169 -0.044396\n",
       "56  0.159331  0.083977 -0.420527 -0.072800  0.225325\n",
       "57 -0.020900 -0.358310 -0.142653  0.145749 -0.007688\n",
       "58 -0.081371 -0.068907 -0.265199 -0.121814 -0.042373\n",
       "59 -0.067714  0.139319 -0.176673 -0.248220  0.133697\n",
       "60 -0.050327 -0.375385 -0.147596  0.013876  0.050111\n",
       "61 -0.395927 -0.081938 -0.016560 -0.034595  0.156568\n",
       "62 -0.070536 -0.016928 -0.323176 -0.205053  0.077552\n",
       "63  0.009307 -0.256985 -0.397899 -0.111659 -0.091566\n",
       "64 -0.310634  0.062505 -0.010461 -0.285608  0.089033\n",
       "\n",
       "[65 rows x 5 columns]"
      ]
     },
     "execution_count": 366,
     "metadata": {},
     "output_type": "execute_result"
    }
   ],
   "source": [
    "# In both cases, that of the big five survey and that of our others survey,\n",
    "# there seems to be a single strong \"general\" component that is highly correlated\n",
    "# with all the factors from the bigfive. This could definitely indicate a\n",
    "# misspecification of the surveys themselves. \n",
    "\n",
    "bf_survey_pca = PCA(5).fit(bf_survey_scaled)\n",
    "loadings = bf_survey_pca.components_.T\n",
    "V, T = rotate_factors(loadings, 'varimax')\n",
    "VO, T = rotate_factors(loadings, 'oblimin', .635, 'oblique')\n",
    "# V = loadings\n",
    "bf_pca_factors = bf_survey_scaled.dot(V)\n",
    "corr = np.corrcoef(bf_pca_factors, bigfive, rowvar=False)\n",
    "# sns.heatmap(pd.DataFrame(corr).iloc[0:5,0:10])\n",
    "# plt.show()\n",
    "pd.DataFrame(VO)"
   ]
  },
  {
   "cell_type": "code",
   "execution_count": 346,
   "metadata": {
    "autoscroll": false,
    "collapsed": false,
    "ein.tags": "worksheet-0",
    "slideshow": {
     "slide_type": "-"
    }
   },
   "outputs": [
    {
     "data": {
      "text/plain": [
       "<matplotlib.figure.Figure at 0x7f7e97294590>"
      ]
     },
     "metadata": {},
     "output_type": "display_data"
    }
   ],
   "source": [
    "corr = np.corrcoef(F, bigfive, rowvar=False)\n",
    "p = sns.heatmap(pd.DataFrame(corr).iloc[0:5,0:10])\n",
    "plt.show()"
   ]
  },
  {
   "cell_type": "code",
   "execution_count": null,
   "metadata": {
    "autoscroll": false,
    "collapsed": false,
    "ein.tags": "worksheet-0",
    "slideshow": {
     "slide_type": "-"
    }
   },
   "outputs": [],
   "source": [
    "from factor_rotation._analytic_rotation import target_rotation\n",
    "\n",
    "T = target_rotation(F, bigfive)\n",
    "rotated_factors = F.dot(T≈\n",
    "corr = np.cov(rotated_factors, bigfive, rowvar = False)\n",
    "sns.heatmap(corr)\n",
    "plt.show()"
   ]
  },
  {
   "cell_type": "code",
   "execution_count": null,
   "metadata": {
    "autoscroll": false,
    "collapsed": false,
    "ein.tags": "worksheet-0",
    "slideshow": {
     "slide_type": "-"
    }
   },
   "outputs": [],
   "source": [
    "from scipy.spatial.distance import cosine, pdist, squareform\n",
    "from factor_rotation._gpa_rotation import GPA\n",
    "\n",
    "\n",
    "T = GPA(F, )\n",
    "rotated_factors = F.dot(T)\n",
    "# f,b = [np.array(df) for df in [rotated_factors, bigfive]]\n",
    "# cos = squareform(pdist(np.concatenate([f.T,b.T]), 'cosine'))\n",
    "# sns.heatmap(cos)\n",
    "# plt.show()\n",
    "# sum([cos[1,6], cos[2,7], cos[4,9], cos[3,8]])"
   ]
  },
  {
   "cell_type": "code",
   "execution_count": null,
   "metadata": {
    "autoscroll": false,
    "collapsed": false,
    "ein.tags": "worksheet-0",
    "slideshow": {
     "slide_type": "-"
    }
   },
   "outputs": [],
   "source": [
    "from sklearn.decomposition import DictionaryLearning\n",
    "\n",
    "others_dict = DictionaryLearning(5).fit(others_scaled)"
   ]
  },
  {
   "cell_type": "code",
   "execution_count": null,
   "metadata": {
    "autoscroll": false,
    "collapsed": false,
    "ein.tags": "worksheet-0",
    "slideshow": {
     "slide_type": "-"
    }
   },
   "outputs": [],
   "source": [
    "from sklearn.cross_decomposition import CCA\n",
    "\n",
    "cca = CCA(n_components = 38)\n",
    "res = cca.fit_transform(bf_survey, others)\n",
    "bf_ccas = res[0]\n",
    "others_ccas = res[1]\n",
    "# get_projected_variance(bf_survey.T, bf_ccas.T), get_projected_variance(others.T, others_ccas.T)"
   ]
  },
  {
   "cell_type": "code",
   "execution_count": 25,
   "metadata": {
    "autoscroll": false,
    "collapsed": false,
    "ein.tags": "worksheet-0",
    "slideshow": {
     "slide_type": "-"
    }
   },
   "outputs": [
    {
     "data": {
      "text/plain": [
       "((94, 5), (94, 38))"
      ]
     },
     "execution_count": 25,
     "metadata": {},
     "output_type": "execute_result"
    }
   ],
   "source": [
    "F = others.dot(others_pca.components_.T)\n",
    "# F.dot(others.T)\n",
    "F.shape, others.shape"
   ]
  },
  {
   "cell_type": "code",
   "execution_count": 280,
   "metadata": {
    "autoscroll": false,
    "collapsed": false,
    "ein.tags": "worksheet-0",
    "slideshow": {
     "slide_type": "-"
    }
   },
   "outputs": [
    {
     "name": "stdout",
     "output_type": "stream",
     "text": [
      "Summed variance of first 5 components: 40.7414493917\n"
     ]
    },
    {
     "data": {
      "text/plain": [
       "0    10.629493\n",
       "1    10.414766\n",
       "2     7.607404\n",
       "3     5.766579\n",
       "4     6.323208\n",
       "5     5.765240\n",
       "6     4.522215\n",
       "7     7.120568\n",
       "dtype: float64"
      ]
     },
     "execution_count": 280,
     "metadata": {},
     "output_type": "execute_result"
    }
   ],
   "source": [
    "# Variance described by Sparse PCA in others survey space\n",
    "others_sparse_pca = SparsePCA(8, .8).fit(others)\n",
    "get_projected_variance(others, others_sparse_pca.components_)"
   ]
  },
  {
   "cell_type": "markdown",
   "metadata": {
    "ein.tags": "worksheet-0",
    "slideshow": {
     "slide_type": "-"
    }
   },
   "source": [
    "### In the space of the Big Five survey:"
   ]
  },
  {
   "cell_type": "code",
   "execution_count": null,
   "metadata": {
    "autoscroll": false,
    "collapsed": false,
    "ein.tags": "worksheet-0",
    "slideshow": {
     "slide_type": "-"
    }
   },
   "outputs": [],
   "source": [
    "# Variance described by Big Five Regression from others survey space\n",
    "get_projected_variance(others, enet.coef_)"
   ]
  },
  {
   "cell_type": "code",
   "execution_count": null,
   "metadata": {
    "autoscroll": false,
    "collapsed": false,
    "ein.tags": "worksheet-0",
    "slideshow": {
     "slide_type": "-"
    }
   },
   "outputs": [],
   "source": [
    "# Variance explained by official Big Five Mapping\n",
    "get_projected_variance(bf_survey, bf_comps.T)\n",
    "\n",
    "# varimax gives reasonable results here, leaves everything unchanged... \n",
    "# V,T = rotate_factors(bf_comps.T, 'varimax')\n",
    "# bf_comps.T - V\n"
   ]
  },
  {
   "cell_type": "code",
   "execution_count": 310,
   "metadata": {
    "autoscroll": false,
    "collapsed": false,
    "ein.tags": "worksheet-0",
    "slideshow": {
     "slide_type": "-"
    }
   },
   "outputs": [],
   "source": [
    "# Variance explained by pure PCA\n",
    "bf_survey_pca = PCA(5).fit(bf_survey)\n",
    "# get_projected_variance(bf_survey, bf_survey_pca.components_)\n",
    "A = bf_survey_pca.components_\n",
    "V, T = rotate_factors(A, 'varimax')\n",
    "# get_projected_variance(bf_survey, V)\n",
    "# np.round(V*10000)"
   ]
  },
  {
   "cell_type": "code",
   "execution_count": 283,
   "metadata": {
    "autoscroll": false,
    "collapsed": false,
    "ein.tags": "worksheet-0",
    "slideshow": {
     "slide_type": "-"
    }
   },
   "outputs": [
    {
     "name": "stdout",
     "output_type": "stream",
     "text": [
      "Summed variance of first 5 components: 41.7959663825\n"
     ]
    },
    {
     "data": {
      "text/plain": [
       "0     6.954491\n",
       "1    12.506588\n",
       "2     5.411025\n",
       "3     9.582842\n",
       "4     7.341020\n",
       "5     6.396424\n",
       "6     4.112881\n",
       "7     7.628662\n",
       "dtype: float64"
      ]
     },
     "execution_count": 283,
     "metadata": {},
     "output_type": "execute_result"
    }
   ],
   "source": [
    "# Variance explained by Sparse PCA\n",
    "bf_survey_sparse_pca = SparsePCA(8, .8).fit(bf_survey)\n",
    "get_projected_variance(bf_survey, bf_survey_sparse_pca.components_)"
   ]
  },
  {
   "cell_type": "markdown",
   "metadata": {
    "ein.tags": "worksheet-0",
    "slideshow": {
     "slide_type": "-"
    }
   },
   "source": [
    "## Considering the scaling of the Big Five Factors\n",
    "\n",
    "Do we center and scale to the columns, to the answers given for each question? Not doing so assumes that they are already centered/scaled to a population and the differences we see are unique to our population here. Doing so assumes that our population here is a representative sample of the types we need these transformations to work for. "
   ]
  },
  {
   "cell_type": "code",
   "execution_count": 380,
   "metadata": {
    "autoscroll": false,
    "collapsed": false,
    "ein.tags": "worksheet-0",
    "slideshow": {
     "slide_type": "-"
    }
   },
   "outputs": [
    {
     "data": {
      "text/plain": [
       "0.035187536092504995"
      ]
     },
     "execution_count": 380,
     "metadata": {},
     "output_type": "execute_result"
    }
   ],
   "source": [
    "dist_scaled = pairwise_distances(bigfive, metric = 'mahalanobis')\n",
    "dist_five2 = pairwise_distances(bigfive_scaled, metric = 'mahalanobis')\n",
    "get_diff(dist_scaled, dist_five2)"
   ]
  },
  {
   "cell_type": "code",
   "execution_count": 476,
   "metadata": {
    "autoscroll": false,
    "collapsed": false,
    "ein.tags": "worksheet-0",
    "slideshow": {
     "slide_type": "-"
    }
   },
   "outputs": [
    {
     "data": {
      "image/png": "[encoded data removed]",
      "text/plain": [
       "<matplotlib.figure.Figure at 0x7f376b638390>"
      ]
     },
     "metadata": {},
     "output_type": "display_data"
    },
    {
     "data": {
      "text/plain": [
       "<matplotlib.axes._subplots.AxesSubplot at 0x7f376b5c2750>"
      ]
     },
     "execution_count": 476,
     "metadata": {},
     "output_type": "execute_result"
    }
   ],
   "source": [
    "sns.stripplot(x = 'value', y = 'variable', data = bigfive.melt(), orient = 'h')"
   ]
  },
  {
   "cell_type": "code",
   "execution_count": 517,
   "metadata": {
    "autoscroll": false,
    "collapsed": false,
    "ein.tags": "worksheet-0",
    "slideshow": {
     "slide_type": "-"
    }
   },
   "outputs": [
    {
     "data": {
      "image/png": "[encoded data removed]",
      "text/plain": [
       "<matplotlib.figure.Figure at 0x7f376b2de310>"
      ]
     },
     "metadata": {},
     "output_type": "display_data"
    },
    {
     "data": {
      "text/plain": [
       "<matplotlib.axes._subplots.AxesSubplot at 0x7f376b2de990>"
      ]
     },
     "execution_count": 517,
     "metadata": {},
     "output_type": "execute_result"
    }
   ],
   "source": [
    "sns.stripplot(x = 'value', y = 'variable', data = bigfive_scaled.melt(), orient = 'h')"
   ]
  },
  {
   "cell_type": "markdown",
   "metadata": {
    "ein.tags": "worksheet-0",
    "slideshow": {
     "slide_type": "-"
    }
   },
   "source": [
    "## How do they match?\n",
    "\n",
    "Just taking a quick look at what questions in the \"others\" survey go to what question in the big five personality factors."
   ]
  },
  {
   "cell_type": "code",
   "execution_count": 518,
   "metadata": {
    "autoscroll": false,
    "collapsed": false,
    "ein.tags": "worksheet-0",
    "slideshow": {
     "slide_type": "-"
    }
   },
   "outputs": [
    {
     "data": {
      "text/plain": [
       "array(['Energy / Extraversion', 'Agreeableness', 'Conscientiousness',\n",
       "       'Emotional Instability', 'Intellect / Openness'], dtype=object)"
      ]
     },
     "execution_count": 518,
     "metadata": {},
     "output_type": "execute_result"
    }
   ],
   "source": [
    "bigfive_key.bigfive_lbl_eng.unique()"
   ]
  },
  {
   "cell_type": "code",
   "execution_count": 521,
   "metadata": {
    "autoscroll": false,
    "collapsed": false,
    "ein.tags": "worksheet-0",
    "slideshow": {
     "slide_type": "-"
    }
   },
   "outputs": [
    {
     "data": {
      "text/plain": [
       "[           0                                                  1\n",
       " 0   0.522327                       I�m a very motivated person.\n",
       " 1  -0.132643     I�m good at getting along with my classmates. \n",
       " 2   0.128962               I�m comfortable with the way I look.\n",
       " 3   0.475185  I can make other people feel better when I wan...\n",
       " 4   0.190995  I find it hard to cope when things change in m...\n",
       " 5   0.238734                      I�m able to deal with stress.\n",
       " 6   0.111701                           I�m happy with my life. \n",
       " 7   0.388803     I would describe myself as a good negotiator. \n",
       " 8   0.217601                          I feel good about myself.\n",
       " 9   0.358623         I�m able to cope well in new environments.\n",
       " 10  0.149036                          I finish whatever I begin,\n",
       "            0                                                  1\n",
       " 0   0.144065  It�s easy for me to talk about my feelings wit...\n",
       " 1   0.575243                       I�m a very motivated person.\n",
       " 2   0.453594  I can make other people feel better when I wan...\n",
       " 3   0.246378  Sometimes, I think my whole like is going to b...\n",
       " 4   0.231995                           I�m happy with my life. \n",
       " 5   0.148984                          I feel good about myself.\n",
       " 6   0.124126  I try to control my thoughts and not worry too...\n",
       " 7   0.168691  Setbacks (delays and obstacles) don�t discoura...\n",
       " 8   0.149706                                 I am a hard worker\n",
       " 9   0.150660                          I finish whatever I begin\n",
       " 10  0.444473           I am diligent (hard working and careful),\n",
       "           0                                                  1\n",
       " 0  0.134268                       I�m a very motivated person.\n",
       " 1  0.199405  I can make other people feel better when I wan...\n",
       " 2  0.127152                      I�m able to deal with stress.\n",
       " 3  0.305383          I pay a lot of attention to my feelings. \n",
       " 4  0.319119                          I feel good about myself.\n",
       " 5  0.247886  I believe that things will work out fine in my...\n",
       " 6  0.244512                                 I am a hard worker\n",
       " 7  0.579223                          I finish whatever I begin\n",
       " 8  0.495372           I am diligent (hard working and careful),\n",
       "           0                                                  1\n",
       " 0  0.298545            I find it hard to control my feelings. \n",
       " 1  0.406992                            I change my mind often.\n",
       " 2  0.367532  I find it hard to know exactly what emotion I�...\n",
       " 3  0.441690  Sometimes, I think my whole like is going to b...\n",
       " 4  0.122573  I find it hard to cope when things change in m...\n",
       " 5  0.538156  Sometimes, I get involved in things I later wi...\n",
       " 6  0.197780          I pay a lot of attention to my feelings. \n",
       " 7  0.263131           I am diligent (hard working and careful),\n",
       "            0                                                  1\n",
       " 0   0.517754                       I�m a very motivated person.\n",
       " 1   0.190546               I�m comfortable with the way I look.\n",
       " 2   0.102922  I can make other people feel better when I wan...\n",
       " 3   0.198473             I can control my anger when I want to.\n",
       " 4   0.141901     I would describe myself as a good negotiator. \n",
       " 5   0.114724  I believe that things will work out fine in my...\n",
       " 6   0.288609  I try to control my thoughts and not worry too...\n",
       " 7   0.402231                                 I am a hard worker\n",
       " 8  -0.158541  I have difficulty maintaining (keeping) my foc...\n",
       " 9   0.227955                          I finish whatever I begin\n",
       " 10  0.530546           I am diligent (hard working and careful)]"
      ]
     },
     "execution_count": 521,
     "metadata": {},
     "output_type": "execute_result"
    }
   ],
   "source": [
    "get_questions(reg_comps, 0.1)"
   ]
  }
 ],
 "metadata": {
  "celltoolbar": "Slideshow",
  "kernelspec": {
   "display_name": "Python 3",
   "name": "python3"
  },
  "language_info": {
   "codemirror_mode": {
    "name": "ipython",
    "version": 3
   },
   "file_extension": ".py",
   "mimetype": "text/x-python",
   "name": "python",
   "nbconvert_exporter": "python",
   "pygments_lexer": "ipython3",
   "version": "3.6.2"
  },
  "name": "personality.ipynb"
 },
 "nbformat": 4,
 "nbformat_minor": 2
}
