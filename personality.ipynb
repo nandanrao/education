{
 "cells": [
  {
   "cell_type": "code",
   "execution_count": 0,
   "metadata": {
    "autoscroll": "json-false",
    "collapsed": false,
    "ein.tags": [
     "worksheet-0"
    ],
    "slideshow": {
     "slide_type": "-"
    }
   },
   "outputs": [],
   "source": [
    "!pip install --upgrade pandas"
   ]
  },
  {
   "cell_type": "code",
   "execution_count": 0,
   "metadata": {
    "autoscroll": "json-false",
    "collapsed": false,
    "ein.tags": [
     "worksheet-0"
    ],
    "slideshow": {
     "slide_type": "-"
    }
   },
   "outputs": [],
   "source": [
    "!pip install --upgrade sklearn"
   ]
  },
  {
   "cell_type": "code",
   "execution_count": 0,
   "metadata": {
    "autoscroll": "json-false",
    "collapsed": false,
    "ein.tags": [
     "worksheet-0"
    ],
    "slideshow": {
     "slide_type": "-"
    }
   },
   "outputs": [],
   "source": [
    "!pip install bokeh plotly\n",
    "%load_ext autoreload"
   ]
  },
  {
   "cell_type": "code",
   "execution_count": 0,
   "metadata": {
    "autoscroll": "json-false",
    "collapsed": false,
    "ein.tags": [
     "worksheet-0"
    ],
    "slideshow": {
     "slide_type": "-"
    }
   },
   "outputs": [],
   "source": [
    "!pip install cufflinks --upgrade"
   ]
  },
  {
   "cell_type": "code",
   "execution_count": 204,
   "metadata": {
    "autoscroll": "json-false",
    "collapsed": false,
    "ein.tags": [
     "worksheet-0"
    ],
    "slideshow": {
     "slide_type": "-"
    }
   },
   "outputs": [],
   "source": [
    "import pandas as pd\n",
    "import numpy as np\n",
    "import seaborn as sns\n",
    "import matplotlib.pyplot as plt\n",
    "import re\n",
    "from os import path\n",
    "from sklearn.decomposition import SparsePCA, PCA\n",
    "from sklearn.preprocessing import scale, normalize\n",
    "from sklearn.metrics.pairwise import pairwise_distances\n",
    "from sklearn.model_selection import GridSearchCV, KFold, cross_val_score\n",
    "from sklearn.manifold import MDS\n",
    "from sklearn.neighbors import NearestNeighbors\n",
    "from sklearn.linear_model import Lasso\n",
    "from bokeh.plotting import figure, output_notebook, show"
   ]
  },
  {
   "cell_type": "code",
   "execution_count": 411,
   "metadata": {
    "autoscroll": "json-false",
    "collapsed": false,
    "ein.tags": [
     "worksheet-0"
    ],
    "slideshow": {
     "slide_type": "-"
    }
   },
   "outputs": [],
   "source": [
    "import personality\n",
    "reload(personality)\n",
    "from personality import *"
   ]
  },
  {
   "cell_type": "code",
   "execution_count": 268,
   "metadata": {
    "autoscroll": "json-false",
    "collapsed": false,
    "ein.tags": [
     "worksheet-0"
    ],
    "slideshow": {
     "slide_type": "-"
    }
   },
   "outputs": [],
   "source": [
    "X = prep_X(read_surveys())\n",
    "one = X.iloc[:, 0:65]\n",
    "others = X.iloc[:, 65:]\n",
    "\n",
    "bigfive_key = pd.read_csv(\"educatalyst/Auxil/q1_key_bigfive.csv\")\n",
    "bigfive = big_five_projection(bigfive_key, one)\n",
    "bigfive_scaled = big_five_projection(bigfive_key, one, True)\n",
    "bf_comps = get_big_five_comps(bigfive_key)"
   ]
  },
  {
   "cell_type": "code",
   "execution_count": 126,
   "metadata": {
    "autoscroll": "json-false",
    "collapsed": false,
    "ein.tags": [
     "worksheet-0"
    ],
    "slideshow": {
     "slide_type": "-"
    }
   },
   "outputs": [],
   "source": [
    "dist_one = scale(pairwise_distances(one, metric = \"l2\"))\n",
    "dist_others = scale(pairwise_distances(others, metric = \"l2\"))\n",
    "dist_all = scale(pairwise_distances(X, metric = \"l2\"))\n",
    "dist_f_all = scale(pairwise_distances(projected, metric = \"l2\"))\n",
    "dist_five = scale(pairwise_distances(bigfive, metric = 'l2'))\n",
    "\n",
    "ids = read_surveys().user_id"
   ]
  },
  {
   "cell_type": "code",
   "execution_count": 418,
   "metadata": {
    "autoscroll": "json-false",
    "collapsed": false,
    "ein.tags": [
     "worksheet-0"
    ],
    "slideshow": {
     "slide_type": "-"
    }
   },
   "outputs": [],
   "source": [
    "cv = KFold(3, random_state = 1, shuffle = True)\n",
    "t = bigfive_scaled.as_matrix()[:, [0,1,2,4]]\n",
    "m = GridSearchCV(MultiElasticNet(), {'alpha': np.arange(0.05, 1.5, .05), 'l1_ratio': np.arange(0.2, 1.0, .05)}, cv = cv, scoring='neg_mean_squared_error')\n",
    "res = pd.DataFrame(m.fit(others, t).cv_results_)"
   ]
  },
  {
   "cell_type": "code",
   "execution_count": 0,
   "metadata": {
    "autoscroll": "json-false",
    "collapsed": false,
    "ein.tags": [
     "worksheet-0"
    ],
    "slideshow": {
     "slide_type": "-"
    }
   },
   "outputs": [],
   "source": [
    "res[res.mean_test_score > np.percentile(res.mean_test_score, 85) ].sort_values(['param_l1_ratio', 'param_alpha'], ascending = False)[['params', 'mean_test_score']].head(20)"
   ]
  },
  {
   "cell_type": "code",
   "execution_count": 0,
   "metadata": {
    "autoscroll": "json-false",
    "collapsed": false,
    "ein.tags": [
     "worksheet-0"
    ],
    "slideshow": {
     "slide_type": "-"
    }
   },
   "outputs": [],
   "source": [
    "m.best_score_, m.best_params_"
   ]
  },
  {
   "cell_type": "code",
   "execution_count": 0,
   "metadata": {
    "autoscroll": "json-false",
    "collapsed": false,
    "ein.tags": [
     "worksheet-0"
    ],
    "slideshow": {
     "slide_type": "-"
    }
   },
   "outputs": [],
   "source": [
    "# using the most agressive sparsity-inducing params from the top 15% cv'd scores\n",
    "enet = MultiElasticNet(alpha = 0.5, l1_ratio = .45)\n",
    "t = bigfive_scaled.as_matrix()\n",
    "fitted = enet.fit(others, t)\n",
    "reg_comps = normalize(enet.coef_).T\n",
    "cross_val_score(enet, others, t, cv = cv, scoring = 'neg_mean_squared_error').mean(), enet.coef_"
   ]
  },
  {
   "cell_type": "code",
   "execution_count": 428,
   "metadata": {
    "autoscroll": "json-false",
    "collapsed": false,
    "ein.tags": [
     "worksheet-0"
    ],
    "slideshow": {
     "slide_type": "-"
    }
   },
   "outputs": [
    {
     "data": {
      "text/plain": [
       "array([ 0.40848236,  0.38958667,  0.41716287])"
      ]
     },
     "execution_count": 428,
     "metadata": {},
     "output_type": "execute_result"
    }
   ],
   "source": [
    "cross_val_score(enet, others, t, cv = cv)"
   ]
  },
  {
   "cell_type": "code",
   "execution_count": 426,
   "metadata": {
    "autoscroll": "json-false",
    "collapsed": false,
    "ein.tags": [
     "worksheet-0"
    ],
    "slideshow": {
     "slide_type": "-"
    }
   },
   "outputs": [
    {
     "data": {
      "text/plain": [
       "[KendalltauResult(correlation=0.47871084292415123, pvalue=8.2295975694679451e-12),\n",
       " KendalltauResult(correlation=0.52736043937772448, pvalue=5.110838060824591e-14),\n",
       " KendalltauResult(correlation=0.60393884155313315, pvalue=6.5590379159161044e-18),\n",
       " KendalltauResult(correlation=0.37691270407252497, pvalue=7.4018268224004627e-08),\n",
       " KendalltauResult(correlation=0.59429933739540408, pvalue=2.1621252247850352e-17)]"
      ]
     },
     "execution_count": 426,
     "metadata": {},
     "output_type": "execute_result"
    }
   ],
   "source": [
    "# do we want correlation coef or pvalue????? Is this bad or good??? \n",
    "compare_factors(one, bf_comps, others, reg_comps)"
   ]
  },
  {
   "cell_type": "code",
   "execution_count": 259,
   "metadata": {
    "autoscroll": "json-false",
    "collapsed": false,
    "ein.tags": [
     "worksheet-0"
    ],
    "slideshow": {
     "slide_type": "-"
    }
   },
   "outputs": [
    {
     "data": {
      "text/plain": [
       "0    4.130844\n",
       "1    3.815130\n",
       "2    4.072245\n",
       "3    2.867041\n",
       "4    3.706479\n",
       "dtype: float64"
      ]
     },
     "execution_count": 259,
     "metadata": {},
     "output_type": "execute_result"
    }
   ],
   "source": [
    "normed_reg_vectors = normalize(enet.coef_).T\n",
    "projected = others.dot(normed_reg_vectors)\n",
    "np.var(projected)"
   ]
  },
  {
   "cell_type": "code",
   "execution_count": 429,
   "metadata": {
    "autoscroll": "json-false",
    "collapsed": false,
    "ein.tags": [
     "worksheet-0"
    ],
    "slideshow": {
     "slide_type": "-"
    }
   },
   "outputs": [
    {
     "data": {
      "text/plain": [
       "0    2.624397\n",
       "1    7.593051\n",
       "2    4.415897\n",
       "3    3.427975\n",
       "4    3.365724\n",
       "dtype: float64"
      ]
     },
     "execution_count": 429,
     "metadata": {},
     "output_type": "execute_result"
    }
   ],
   "source": [
    "pca_others = SparsePCA(5, .5).fit(others)\n",
    "projected_pca_others = others.dot(normalize(pca_others.components_).T)\n",
    "np.var(projected_pca_others)"
   ]
  },
  {
   "cell_type": "code",
   "execution_count": 431,
   "metadata": {
    "autoscroll": "json-false",
    "collapsed": false,
    "ein.tags": [
     "worksheet-0"
    ],
    "slideshow": {
     "slide_type": "-"
    }
   },
   "outputs": [
    {
     "data": {
      "text/plain": [
       "0    6.837325\n",
       "1    9.942295\n",
       "2    4.853767\n",
       "3    4.834003\n",
       "4    8.344890\n",
       "dtype: float64"
      ]
     },
     "execution_count": 431,
     "metadata": {},
     "output_type": "execute_result"
    }
   ],
   "source": [
    "pca_one = SparsePCA(5, .5).fit(one)\n",
    "projected = one.dot(normalize(pca_one.components_).T)\n",
    "np.var(projected)"
   ]
  },
  {
   "cell_type": "code",
   "execution_count": 262,
   "metadata": {
    "autoscroll": "json-false",
    "collapsed": false,
    "ein.tags": [
     "worksheet-0"
    ],
    "slideshow": {
     "slide_type": "-"
    }
   },
   "outputs": [
    {
     "data": {
      "text/plain": [
       "0    5.968033\n",
       "1    4.620225\n",
       "2    5.464298\n",
       "3    3.735383\n",
       "4    7.075983\n",
       "dtype: float64"
      ]
     },
     "execution_count": 262,
     "metadata": {},
     "output_type": "execute_result"
    }
   ],
   "source": [
    "projected = one.dot(bf_comps)\n",
    "np.var(projected)"
   ]
  },
  {
   "cell_type": "code",
   "execution_count": 138,
   "metadata": {
    "autoscroll": "json-false",
    "collapsed": false,
    "ein.tags": [
     "worksheet-0"
    ],
    "slideshow": {
     "slide_type": "-"
    }
   },
   "outputs": [
    {
     "data": {
      "text/plain": [
       "0.035187536092504995"
      ]
     },
     "execution_count": 138,
     "metadata": {},
     "output_type": "execute_result"
    }
   ],
   "source": [
    "dist_scaled = pairwise_distances(bigfive, metric = 'mahalanobis')\n",
    "dist_five2 = pairwise_distances(bigfive_scaled, metric = 'mahalanobis')\n",
    "get_diff(dist_scaled, dist_five2)"
   ]
  },
  {
   "cell_type": "code",
   "execution_count": 0,
   "metadata": {
    "autoscroll": "json-false",
    "collapsed": false,
    "ein.tags": [
     "worksheet-0"
    ],
    "slideshow": {
     "slide_type": "-"
    }
   },
   "outputs": [],
   "source": [
    "sns.stripplot(x = 'value', y = 'variable', data = bigfive.melt(), orient = 'h')"
   ]
  },
  {
   "cell_type": "code",
   "execution_count": 0,
   "metadata": {
    "autoscroll": "json-false",
    "collapsed": false,
    "ein.tags": [
     "worksheet-0"
    ],
    "slideshow": {
     "slide_type": "-"
    }
   },
   "outputs": [],
   "source": [
    "sns.stripplot(x = 'value', y = 'variable', data = bigfive_scaled.melt(), orient = 'h')"
   ]
  },
  {
   "cell_type": "code",
   "execution_count": 432,
   "metadata": {
    "autoscroll": "json-false",
    "collapsed": false,
    "ein.tags": [
     "worksheet-0"
    ],
    "slideshow": {
     "slide_type": "-"
    }
   },
   "outputs": [
    {
     "data": {
      "image/png": "[encoded data removed]",
      "text/plain": [
       "<matplotlib.figure.Figure at 0x7f376b6586d0>"
      ]
     },
     "metadata": {},
     "output_type": "display_data"
    },
    {
     "data": {
      "text/plain": [
       "<matplotlib.axes._subplots.AxesSubplot at 0x7f376b8808d0>"
      ]
     },
     "execution_count": 432,
     "metadata": {},
     "output_type": "execute_result"
    }
   ],
   "source": [
    "# take a look at the questions on the axes...\n",
    "(np.sign(np.round(model.components_[0]/5)))\n",
    "\n",
    "# Look at just the answers to the bigfive problems\n",
    "one = X.iloc[:, 0:65]\n",
    "\n",
    "sns.distplot(one.apply(np.mean, 0))"
   ]
  }
 ],
 "metadata": {
  "kernelspec": {
   "display_name": "Python 2",
   "name": "python2"
  },
  "language_info": {
   "codemirror_mode": {
    "name": "ipython",
    "version": 2
   },
   "file_extension": ".py",
   "mimetype": "text/x-python",
   "name": "python",
   "nbconvert_exporter": "python",
   "pygments_lexer": "ipython2",
   "version": "2.7.12"
  },
  "name": "personality.ipynb"
 },
 "nbformat": 4,
 "nbformat_minor": 2
}
