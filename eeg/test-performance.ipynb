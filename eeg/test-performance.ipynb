{
 "cells": [
  {
   "cell_type": "code",
   "execution_count": 18,
   "metadata": {
    "autoscroll": false,
    "collapsed": false,
    "ein.tags": "worksheet-0",
    "slideshow": {
     "slide_type": "-"
    }
   },
   "outputs": [],
   "source": [
    "! pip install -q mne\n",
    "%load_ext autoreload\n",
    "%autoreload 2"
   ]
  },
  {
   "cell_type": "code",
   "execution_count": 1,
   "metadata": {
    "autoscroll": false,
    "collapsed": false,
    "ein.tags": "worksheet-0",
    "slideshow": {
     "slide_type": "-"
    }
   },
   "outputs": [],
   "source": [
    "# Run this notebook outside of main module tree\n",
    "import os\n",
    "import sys\n",
    "\n",
    "nb_dir = os.path.split(os.getcwd())[0]\n",
    "if nb_dir not in sys.path:\n",
    "    sys.path.append(nb_dir)"
   ]
  },
  {
   "cell_type": "code",
   "execution_count": 4,
   "metadata": {
    "autoscroll": false,
    "collapsed": false,
    "ein.tags": "worksheet-0",
    "slideshow": {
     "slide_type": "-"
    }
   },
   "outputs": [],
   "source": [
    "# https://github.com/statsmodels/statsmodels/issues/3931\n",
    "from scipy import stats\n",
    "stats.chisqprob = lambda chisq, df: stats.chi2.sf(chisq, df)"
   ]
  },
  {
   "cell_type": "code",
   "execution_count": 19,
   "metadata": {
    "autoscroll": false,
    "collapsed": false,
    "ein.tags": "worksheet-0",
    "slideshow": {
     "slide_type": "-"
    }
   },
   "outputs": [],
   "source": [
    "from performance import *\n",
    "from eeg_io import * \n",
    "\n",
    "timing = pd.read_csv(\"../eeg_tests/timing.csv\")\n",
    "eeg_data = \"../data/EEG\"\n",
    "pres = \"../eeg_tests/logs\""
   ]
  },
  {
   "cell_type": "code",
   "execution_count": null,
   "metadata": {
    "autoscroll": false,
    "collapsed": false,
    "ein.tags": "worksheet-0",
    "slideshow": {
     "slide_type": "-"
    }
   },
   "outputs": [],
   "source": [
    "perf_df = read_all_user_success(timing, eeg_data, pres, targets = ['two-back', 'three-back'])"
   ]
  },
  {
   "cell_type": "code",
   "execution_count": 41,
   "metadata": {
    "autoscroll": false,
    "collapsed": false,
    "ein.tags": "worksheet-0",
    "slideshow": {
     "slide_type": "-"
    }
   },
   "outputs": [],
   "source": [
    "import re\n",
    "\n",
    "def design_perf_df(df):\n",
    "    d = df.copy()\n",
    "    d = (perf_df\n",
    "         .pivot_table(index=['user', 'test', 'metric'], values='score')\n",
    "         .unstack(level=[1,2]))\n",
    "    d.columns = ['_'.join(col).strip() for col in d.columns.values]\n",
    "    d.index = [int(re.sub(r'[^\\d]', '', s)) for s in d.index]\n",
    "    d['treated'] = d.index > 23\n",
    "    return d"
   ]
  },
  {
   "cell_type": "code",
   "execution_count": 146,
   "metadata": {
    "autoscroll": false,
    "collapsed": false,
    "ein.tags": "worksheet-0",
    "slideshow": {
     "slide_type": "-"
    }
   },
   "outputs": [],
   "source": [
    "import statsmodels.api as sm\n",
    "import statsmodels.stats.api as sms\n",
    "\n",
    "d = design_perf_df(perf_df)\n",
    "d = d.dropna()\n",
    "# d = d[(d['three-back_clicks'] < 50) & (d['two-back_clicks'] < 50)]\n",
    "X = d.dropna().drop('treated', 1)\n",
    "y = d.dropna().treated"
   ]
  },
  {
   "cell_type": "code",
   "execution_count": 12,
   "metadata": {},
   "outputs": [],
   "source": [
    "%load_ext rpy2.ipython "
   ]
  },
  {
   "cell_type": "code",
   "execution_count": null,
   "metadata": {},
   "outputs": [],
   "source": [
    "%%R -i d\n",
    "\n",
    "install.packages('stargazer')\n",
    "library(dplyr)\n",
    "library(stargazer)\n",
    "library(broom)\n",
    "library(ggplot2)"
   ]
  },
  {
   "cell_type": "code",
   "execution_count": null,
   "metadata": {},
   "outputs": [],
   "source": [
    "%%R -i d\n",
    "\n",
    "manova(cbind(three.back_precision, three.back_recall) ~ treated, d) %>% summary()"
   ]
  },
  {
   "cell_type": "code",
   "execution_count": null,
   "metadata": {},
   "outputs": [],
   "source": [
    "%%R -i d\n",
    "\n",
    "manova(cbind(two.back_precision, two.back_recall, two.back_) ~ treated, d) %>% summary()"
   ]
  },
  {
   "cell_type": "code",
   "execution_count": 48,
   "metadata": {},
   "outputs": [],
   "source": [
    "from copy import deepcopy\n",
    "from statsmodels.sandbox.stats.multicomp import multipletests\n",
    "from statsmodels.iolib.summary2 import summary_col, summary_params, _df_to_simpletable\n",
    "\n",
    "def reconstitute_pvalues(models, corrected_pvals, finished =[]):\n",
    "    if len(models) == 0:\n",
    "        return finished\n",
    "    m, *mtail = models\n",
    "    l = len(m.pvalues)\n",
    "    c, ctail = corrected_pvals[:l], corrected_pvals[l:]\n",
    "    m.pvalues = c\n",
    "    return reconstitute_pvalues(mtail, ctail, finished + [m])\n",
    "    \n",
    "\n",
    "def correct_pvalues(models, method):\n",
    "    models = [deepcopy(m) for m in models]\n",
    "    pvals = [p for m in models for p in m.pvalues]\n",
    "    _, corrected_pvals, _, _ = multipletests(pvals, method = method)\n",
    "    return reconstitute_pvalues(models, list(corrected_pvals))\n",
    "\n",
    "def get_treated_p(res):\n",
    "    i = res.model.exog_names.index('treated')\n",
    "    return res.pvalues[i]"
   ]
  },
  {
   "cell_type": "code",
   "execution_count": 96,
   "metadata": {
    "autoscroll": false,
    "collapsed": false,
    "ein.tags": "worksheet-0",
    "slideshow": {
     "slide_type": "-"
    }
   },
   "outputs": [],
   "source": [
    "# OLS REGRESSIONS ON EACH DEPENDENT VARIABLE OPTION\n",
    "\n",
    "fit = lambda X,y: sm.OLS(X, sm.add_constant(y).astype(float)).fit(cov_type='HC3', use_t = True)\n",
    "\n",
    "fits = [fit(X[col], y) for col in X.columns]\n",
    "\n",
    "models = [\n",
    "    fit(d['three-back_precision'], d[['treated']]),\n",
    "    fit(d['three-back_recall'], d[['treated']]),\n",
    "    fit(d['two-back_precision'], d[['treated']]),\n",
    "    fit(d['two-back_recall'], d[['treated']]),\n",
    "    fit(d['three-back_precision'], d[['three-back_clicks', 'treated']]),\n",
    "    fit(d['three-back_recall'], d[['three-back_clicks', 'treated']]),\n",
    "    fit(d['two-back_precision'], d[['two-back_clicks', 'treated']]),\n",
    "    fit(d['two-back_recall'], d[['two-back_clicks', 'treated']])\n",
    "]"
   ]
  },
  {
   "cell_type": "code",
   "execution_count": 97,
   "metadata": {},
   "outputs": [],
   "source": [
    "l = len(fits)\n",
    "c = correct_pvalues(fits + models, 'fdr_bh')\n",
    "fits, models = c[:l], c[l:]"
   ]
  },
  {
   "cell_type": "code",
   "execution_count": 160,
   "metadata": {
    "autoscroll": false,
    "collapsed": false,
    "ein.tags": "worksheet-0",
    "slideshow": {
     "slide_type": "-"
    }
   },
   "outputs": [],
   "source": [
    "# BOOTSTRAP OLS\n",
    "\n",
    "def sample_and_fit(df, col, target):\n",
    "    df = df.sample(45, replace=True).dropna()\n",
    "    f = fit(df[col], df[target])\n",
    "    return f.params[target]\n",
    "\n",
    "def bootstrap_OLS(df, exog, endog):\n",
    "    params = [sample_and_fit(d, exog, endog) for i in range(200)]    \n",
    "    return exog, np.mean(params), np.percentile(params, 2.5), np.percentile(params, 97.5)\n",
    "\n",
    "p = [bootstrap_OLS(d, c, ['treated']) for c in d.drop(['treated'], 1).columns]\n",
    "bootstrap_df = pd.DataFrame(p, columns = ['Model', 'Coef', 'BS {[}0.025', 'BS 0.975{]}'])"
   ]
  },
  {
   "cell_type": "code",
   "execution_count": 99,
   "metadata": {},
   "outputs": [
    {
     "name": "stdout",
     "output_type": "stream",
     "text": [
      "\\begin{table}\n",
      "\\caption{}\n",
      "\\begin{center}\n",
      "\\begin{tabular}{lcccccccc}\n",
      "\\hline\n",
      "                   & 3B Prec I & 3B Recall I & 2B Prec I & 2B Recall I & 3B Prec II & 3B Recall II & 2B Prec II & 2B Recall II  \\\\\n",
      "\\hline\n",
      "\\hline\n",
      "\\end{tabular}\n",
      "\\begin{tabular}{lllllllll}\n",
      "const              & 0.63***   & 0.54***     & 0.80***   & 0.77***     & 0.70***    & 0.16**       & 1.03***    & 0.40***       \\\\\n",
      "                   & (0.03)    & (0.03)      & (0.03)    & (0.03)      & (0.08)     & (0.06)       & (0.12)     & (0.12)        \\\\\n",
      "three-back\\_clicks &           &             &           &             & -0.00      & 0.02***      &            &               \\\\\n",
      "                   &           &             &           &             & (0.00)     & (0.00)       &            &               \\\\\n",
      "treated            & -0.14***  & -0.07       & -0.12***  & -0.06       & -0.14***   & -0.11**      & -0.09**    & -0.09**       \\\\\n",
      "                   & (0.04)    & (0.05)      & (0.04)    & (0.04)      & (0.04)     & (0.04)       & (0.04)     & (0.04)        \\\\\n",
      "two-back\\_clicks   &           &             &           &             &            &              & -0.01*     & 0.02***       \\\\\n",
      "                   &           &             &           &             &            &              & (0.00)     & (0.00)        \\\\\n",
      "FDR p-val          & 0.00      & 0.18        & 0.01      & 0.23        & 0.01       & 0.01         & 0.03       & 0.03          \\\\\n",
      "N                  & 45        & 45          & 45        & 45          & 45         & 45           & 45         & 45            \\\\\n",
      "Jarque-Bera        & 0.03      & 0.32        & 1.54      & 7.11        & 0.01       & 0.79         & 2.13       & 1.01          \\\\\n",
      "Breusch-Pagan      & 0.25      & 3.33        & 1.39      & 2.23        & 0.74       & 2.98         & 7.20       & 4.27          \\\\\n",
      "Adjusted \\$R^2\\$   & 0.21      & 0.02        & 0.16      & 0.01        & 0.21       & 0.42         & 0.31       & 0.35          \\\\\n",
      "\\hline\n",
      "\\end{tabular}\n",
      "\\end{center}\n",
      "\\end{table}\n"
     ]
    }
   ],
   "source": [
    "from statsmodels.stats.diagnostic import het_breuschpagan\n",
    "\n",
    "model_names = ['3B Prec', '3B Recall', '2B Prec', '2B Recall', '3B Prec', '3B Recall', '2B Prec', '2B Recall']\n",
    "\n",
    "s = summary_col(models,  stars=True, float_format='%.2f', model_names=model_names, info_dict = { \n",
    "    'FDR p-val': lambda m: \"{:.2f}\".format(get_treated_p(m)),\n",
    "    'N': lambda m: str(int(m.nobs)),\n",
    "    'Jarque-Bera': lambda m: \"{:.2f}\".format(sms.jarque_bera(m.resid)[0]),\n",
    "    'Breusch-Pagan': lambda m: \"{:.2f}\".format(sms.het_breuschpagan(m.resid, m.model.exog)[0]),\n",
    "    'Adjusted $R^2$': lambda m: \"{:.2f}\".format(m.rsquared_adj)\n",
    "})\n",
    "print(s.as_latex())"
   ]
  },
  {
   "cell_type": "code",
   "execution_count": 100,
   "metadata": {
    "autoscroll": false,
    "collapsed": false,
    "ein.tags": "worksheet-0",
    "slideshow": {
     "slide_type": "-"
    }
   },
   "outputs": [
    {
     "name": "stdout",
     "output_type": "stream",
     "text": [
      "\\begin{table}\n",
      "\\caption{}\n",
      "\\begin{center}\n",
      "\\begin{tabular}{lcccccc}\n",
      "\\hline\n",
      "                 & Stroop acc & Stroop med. r.t. & 3B clicks & 3B med. r.t. & 2B clicks & 2B med. r.t.  \\\\\n",
      "\\hline\n",
      "\\hline\n",
      "\\end{tabular}\n",
      "\\begin{tabular}{lllllll}\n",
      "const            & 0.97***    & 746.42***        & 22.11***  & 394.04***    & 24.58***  & 343.02***     \\\\\n",
      "                 & (0.01)     & (26.13)          & (1.11)    & (27.84)      & (1.03)    & (15.32)       \\\\\n",
      "treated          & -0.01      & 49.41            & 2.24      & -23.99       & 2.34      & 15.83         \\\\\n",
      "                 & (0.01)     & (40.51)          & (1.78)    & (33.19)      & (1.71)    & (20.50)       \\\\\n",
      "FDR p-val        & 0.42       & 0.25             & 0.24      & 0.47         & 0.22      & 0.45          \\\\\n",
      "N                & 45         & 45               & 45        & 45           & 45        & 45            \\\\\n",
      "Jarque-Bera      & 19.54      & 12.73            & 1.55      & 1.90         & 0.21      & 1.00          \\\\\n",
      "Breusch-Pagan    & 0.00       & 1.11             & 4.22      & 3.11         & 3.49      & 0.10          \\\\\n",
      "Adjusted \\$R^2\\$ & -0.01      & 0.01             & 0.01      & -0.01        & 0.02      & -0.01         \\\\\n",
      "\\hline\n",
      "\\end{tabular}\n",
      "\\end{center}\n",
      "\\end{table}\n"
     ]
    }
   ],
   "source": [
    "# TWO-BACK PRECISION\n",
    "    \n",
    "out_col_names = ['Stroop acc', 'Stroop med. r.t.', '3B clicks','3B med. r.t.','2B clicks','2B med. r.t.',]\n",
    "    \n",
    "sum2 = summary_col(np.array(fits)[[0,1,3,4,8,9]].tolist(), \n",
    "                   stars=True, float_format='%.2f', model_names=out_col_names,\n",
    "                  info_dict = {\n",
    "                     'FDR p-val': lambda m: \"{:.2f}\".format(get_treated_p(m)),\n",
    "                     'N': lambda m: str(int(m.nobs)),\n",
    "                     'Jarque-Bera': lambda m: \"{:.2f}\".format(sms.jarque_bera(m.resid)[0]),\n",
    "                     'Breusch-Pagan': lambda m: \"{:.2f}\".format(sms.het_breuschpagan(m.resid, m.model.exog)[0]),\n",
    "                     'Adjusted $R^2$': lambda m: \"{:.2f}\".format(m.rsquared_adj)\n",
    "                  })\n",
    "print(sum2.as_latex())"
   ]
  },
  {
   "cell_type": "code",
   "execution_count": 161,
   "metadata": {},
   "outputs": [
    {
     "name": "stdout",
     "output_type": "stream",
     "text": [
      "\\begin{center}\n",
      "\\begin{tabular}{lcccccc}\n",
      "\\hline\n",
      "            & stroop\\_accuracy & stroop\\_med\\_res & three-back\\_clicks & three-back\\_med\\_res & two-back\\_clicks & two-back\\_med\\_res  \\\\\n",
      "\\hline\n",
      "\\hline\n",
      "\\end{tabular}\n",
      "\\begin{tabular}{lrrrrrr}\n",
      "Coef        &            -0.01 &            53.09 &               4.91 &               -32.61 &             3.98 &              13.84  \\\\\n",
      "BS {[}0.025 &            -0.03 &           -14.53 &               0.41 &               -87.91 &             0.13 &             -21.63  \\\\\n",
      "BS 0.975{]} &             0.01 &           123.94 &              11.42 &                27.60 &             8.44 &              51.08  \\\\\n",
      "\\hline\n",
      "\\end{tabular}\n",
      "\\end{center}\n"
     ]
    }
   ],
   "source": [
    "btd = bootstrap_df.set_index('Model').T[[0,1,3,4,8,9]]\n",
    "print(_df_to_simpletable(btd, float_format='%.2f').as_latex_tabular())"
   ]
  },
  {
   "cell_type": "code",
   "execution_count": 153,
   "metadata": {
    "autoscroll": false,
    "collapsed": false,
    "ein.tags": "worksheet-0",
    "slideshow": {
     "slide_type": "-"
    }
   },
   "outputs": [],
   "source": [
    "def plot_hist(d, col):\n",
    "    return (d.pivot(values=col, columns='treated')\n",
    "            .plot\n",
    "            .hist(stacked=False, alpha=.5, bins=15, title=col))"
   ]
  },
  {
   "cell_type": "code",
   "execution_count": 154,
   "metadata": {
    "autoscroll": false,
    "collapsed": false,
    "ein.tags": "worksheet-0",
    "slideshow": {
     "slide_type": "-"
    }
   },
   "outputs": [
    {
     "data": {
      "image/png": "[encoded data removed]",
      "text/plain": [
       "<Figure size 432x288 with 1 Axes>"
      ]
     },
     "metadata": {},
     "output_type": "display_data"
    }
   ],
   "source": [
    "_ = plot_hist(d, 'three-back_recall')"
   ]
  },
  {
   "cell_type": "code",
   "execution_count": 155,
   "metadata": {
    "autoscroll": false,
    "collapsed": false,
    "ein.tags": "worksheet-0",
    "slideshow": {
     "slide_type": "-"
    }
   },
   "outputs": [
    {
     "data": {
      "image/png": "[encoded data removed]",
      "text/plain": [
       "<Figure size 432x288 with 1 Axes>"
      ]
     },
     "metadata": {},
     "output_type": "display_data"
    }
   ],
   "source": [
    "_ = plot_hist(d, 'three-back_precision')"
   ]
  },
  {
   "cell_type": "code",
   "execution_count": 156,
   "metadata": {
    "autoscroll": false,
    "collapsed": false,
    "ein.tags": "worksheet-0",
    "slideshow": {
     "slide_type": "-"
    }
   },
   "outputs": [
    {
     "data": {
      "image/png": "[encoded data removed]",
      "text/plain": [
       "<Figure size 432x288 with 1 Axes>"
      ]
     },
     "metadata": {},
     "output_type": "display_data"
    }
   ],
   "source": [
    "_ = plot_hist(d, 'two-back_recall')"
   ]
  },
  {
   "cell_type": "code",
   "execution_count": 157,
   "metadata": {
    "autoscroll": false,
    "collapsed": false,
    "ein.tags": "worksheet-0",
    "slideshow": {
     "slide_type": "-"
    }
   },
   "outputs": [
    {
     "data": {
      "image/png": "[encoded data removed]",
      "text/plain": [
       "<Figure size 432x288 with 1 Axes>"
      ]
     },
     "metadata": {},
     "output_type": "display_data"
    }
   ],
   "source": [
    "_ = plot_hist(d, 'two-back_precision')"
   ]
  },
  {
   "cell_type": "code",
   "execution_count": 158,
   "metadata": {},
   "outputs": [
    {
     "data": {
      "image/png": "[encoded data removed]",
      "text/plain": [
       "<Figure size 432x288 with 1 Axes>"
      ]
     },
     "metadata": {},
     "output_type": "display_data"
    }
   ],
   "source": [
    "_ = plot_hist(d, 'two-back_clicks')"
   ]
  },
  {
   "cell_type": "code",
   "execution_count": 159,
   "metadata": {},
   "outputs": [
    {
     "data": {
      "image/png": "[encoded data removed]",
      "text/plain": [
       "<Figure size 432x288 with 1 Axes>"
      ]
     },
     "metadata": {},
     "output_type": "display_data"
    }
   ],
   "source": [
    "_ = plot_hist(d, 'three-back_clicks')"
   ]
  }
 ],
 "metadata": {
  "kernelspec": {
   "display_name": "Python 3",
   "language": "python",
   "name": "python3"
  },
  "language_info": {
   "codemirror_mode": {
    "name": "ipython",
    "version": 3
   },
   "file_extension": ".py",
   "mimetype": "text/x-python",
   "name": "python",
   "nbconvert_exporter": "python",
   "pygments_lexer": "ipython3",
   "version": "3.6.4"
  },
  "name": "test-performance.ipynb"
 },
 "nbformat": 4,
 "nbformat_minor": 2
}
