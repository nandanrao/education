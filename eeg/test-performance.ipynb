{
 "cells": [
  {
   "cell_type": "code",
   "execution_count": 4,
   "metadata": {
    "autoscroll": false,
    "collapsed": false,
    "ein.tags": "worksheet-0",
    "slideshow": {
     "slide_type": "-"
    }
   },
   "outputs": [],
   "source": [
    "! pip install -q mne\n",
    "%load_ext autoreload\n",
    "%autoreload 2"
   ]
  },
  {
   "cell_type": "code",
   "execution_count": 6,
   "metadata": {
    "autoscroll": false,
    "collapsed": false,
    "ein.tags": "worksheet-0",
    "slideshow": {
     "slide_type": "-"
    }
   },
   "outputs": [],
   "source": [
    "# Run this notebook outside of main module tree\n",
    "import os\n",
    "import sys\n",
    "\n",
    "nb_dir = os.path.split(os.getcwd())[0]\n",
    "if nb_dir not in sys.path:\n",
    "    sys.path.append(nb_dir)"
   ]
  },
  {
   "cell_type": "code",
   "execution_count": 122,
   "metadata": {
    "autoscroll": false,
    "collapsed": false,
    "ein.tags": "worksheet-0",
    "slideshow": {
     "slide_type": "-"
    }
   },
   "outputs": [],
   "source": [
    "from performance import *\n",
    "from eeg_io import * \n",
    "\n",
    "timing = pd.read_csv(\"../eeg_tests/timing.csv\")\n",
    "eeg_data = \"../data/EEG\""
   ]
  },
  {
   "cell_type": "code",
   "execution_count": null,
   "metadata": {
    "autoscroll": false,
    "collapsed": false,
    "ein.tags": "worksheet-0",
    "slideshow": {
     "slide_type": "-"
    }
   },
   "outputs": [],
   "source": [
    "# u = with_timing('P13', timing)\n",
    "# df = u['stroop-text']\n",
    "\n",
    "calc_accuracy = lambda d: ((d['Response Accuracy'] == 'rm_hit').sum() / \n",
    "                          d['Response Accuracy'].count())\n",
    "\n",
    "df[df.Block == 'Main'].groupby(['Task', 'Condition']).apply(calc_accuracy)\n",
    "df[df.Block == 'Main'].groupby(['Task', 'Condition']).median().RT"
   ]
  },
  {
   "cell_type": "code",
   "execution_count": null,
   "metadata": {
    "autoscroll": false,
    "collapsed": false,
    "ein.tags": "worksheet-0",
    "slideshow": {
     "slide_type": "-"
    }
   },
   "outputs": [],
   "source": [
    "perf_df = read_all_user_success(timing, eeg_data, targets = ['two-back', 'three-back'])"
   ]
  },
  {
   "cell_type": "code",
   "execution_count": 131,
   "metadata": {
    "autoscroll": false,
    "collapsed": false,
    "ein.tags": "worksheet-0",
    "slideshow": {
     "slide_type": "-"
    }
   },
   "outputs": [],
   "source": [
    "# https://github.com/statsmodels/statsmodels/issues/3931\n",
    "from scipy import stats\n",
    "stats.chisqprob = lambda chisq, df: stats.chi2.sf(chisq, df)"
   ]
  },
  {
   "cell_type": "code",
   "execution_count": 140,
   "metadata": {
    "autoscroll": false,
    "collapsed": false,
    "ein.tags": "worksheet-0",
    "slideshow": {
     "slide_type": "-"
    }
   },
   "outputs": [],
   "source": [
    "import re\n",
    "\n",
    "def design_perf_df(df):\n",
    "    d = df.copy()\n",
    "    d = (perf_df\n",
    "         .pivot_table(index=['user', 'test', 'metric'], values='score')\n",
    "         .unstack(level=[1,2]))\n",
    "    d.columns = ['_'.join(col).strip() for col in d.columns.values]\n",
    "    d.index = [int(re.sub(r'[^\\d]', '', s)) for s in d.index]\n",
    "    d['treated'] = d.index > 23\n",
    "    return d"
   ]
  },
  {
   "cell_type": "code",
   "execution_count": null,
   "metadata": {
    "autoscroll": false,
    "collapsed": false,
    "ein.tags": "worksheet-0",
    "slideshow": {
     "slide_type": "-"
    }
   },
   "outputs": [],
   "source": [
    "import statsmodels.api as sm\n",
    "\n",
    "d = design_perf_df(perf_df)\n",
    "X = d.dropna().drop('treated', 1)\n",
    "y = d.dropna().treated\n",
    "\n",
    "res = sm.Logit(y, X).fit().summary()\n",
    "print(res)"
   ]
  },
  {
   "cell_type": "code",
   "execution_count": 142,
   "metadata": {
    "autoscroll": false,
    "collapsed": false,
    "ein.tags": "worksheet-0",
    "slideshow": {
     "slide_type": "-"
    }
   },
   "outputs": [],
   "source": [
    "# OLS REGRESSIONS ON EACH DEPENDENT VARIABLE OPTION\n",
    "\n",
    "fit = lambda X,y: sm.OLS(X, sm.add_constant(y).astype(float)).fit()\n",
    "fits = [fit(X[col], y) for col in X.columns]"
   ]
  },
  {
   "cell_type": "code",
   "execution_count": null,
   "metadata": {
    "autoscroll": false,
    "collapsed": false,
    "ein.tags": "worksheet-0",
    "slideshow": {
     "slide_type": "-"
    }
   },
   "outputs": [],
   "source": [
    "[print(f.summary()) for f in fits]"
   ]
  },
  {
   "cell_type": "code",
   "execution_count": null,
   "metadata": {
    "autoscroll": false,
    "collapsed": false,
    "ein.tags": "worksheet-0",
    "slideshow": {
     "slide_type": "-"
    }
   },
   "outputs": [],
   "source": [
    "# TWO-BACK PRECISION\n",
    "\n",
    "print(fits[6].summary())\n",
    "_ = sm.graphics.plot_fit(fits[6], 1)"
   ]
  },
  {
   "cell_type": "code",
   "execution_count": 491,
   "metadata": {
    "autoscroll": false,
    "collapsed": false,
    "ein.tags": "worksheet-0",
    "slideshow": {
     "slide_type": "-"
    }
   },
   "outputs": [
    {
     "name": "stdout",
     "output_type": "stream",
     "text": [
      "                             OLS Regression Results                             \n",
      "================================================================================\n",
      "Dep. Variable:     three-back_precision   R-squared:                       0.253\n",
      "Model:                              OLS   Adj. R-squared:                  0.237\n",
      "Method:                   Least Squares   F-statistic:                     15.25\n",
      "Date:                  Tue, 06 Mar 2018   Prob (F-statistic):           0.000313\n",
      "Time:                          17:17:43   Log-Likelihood:                 27.649\n",
      "No. Observations:                    47   AIC:                            -51.30\n",
      "Df Residuals:                        45   BIC:                            -47.60\n",
      "Df Model:                             1                                         \n",
      "Covariance Type:              nonrobust                                         \n",
      "==============================================================================\n",
      "                 coef    std err          t      P>|t|      [0.025      0.975]\n",
      "------------------------------------------------------------------------------\n",
      "const          0.6308      0.032     20.025      0.000       0.567       0.694\n",
      "treated       -0.1594      0.041     -3.905      0.000      -0.242      -0.077\n",
      "==============================================================================\n",
      "Omnibus:                        0.141   Durbin-Watson:                   1.836\n",
      "Prob(Omnibus):                  0.932   Jarque-Bera (JB):                0.018\n",
      "Skew:                           0.041   Prob(JB):                        0.991\n",
      "Kurtosis:                       2.952   Cond. No.                         2.91\n",
      "==============================================================================\n",
      "\n",
      "Warnings:\n",
      "[1] Standard Errors assume that the covariance matrix of the errors is correctly specified.\n"
     ]
    },
    {
     "data": {
      "image/png": "[encoded data removed]",
      "text/plain": [
       "<matplotlib.figure.Figure at 0x7fa0a9424a58>"
      ]
     },
     "metadata": {},
     "output_type": "display_data"
    }
   ],
   "source": [
    "# TWO-BACK PRECISION\n",
    "\n",
    "print(fits[2].summary())\n",
    "_ = sm.graphics.plot_fit(fits[6], 1)"
   ]
  },
  {
   "cell_type": "code",
   "execution_count": 428,
   "metadata": {
    "autoscroll": false,
    "collapsed": false,
    "ein.tags": "worksheet-0",
    "slideshow": {
     "slide_type": "-"
    }
   },
   "outputs": [
    {
     "name": "stdout",
     "output_type": "stream",
     "text": [
      "                    Robust linear Model Regression Results                    \n",
      "==============================================================================\n",
      "Dep. Variable:     two-back_precision   No. Observations:                   47\n",
      "Model:                            RLM   Df Residuals:                       45\n",
      "Method:                          IRLS   Df Model:                            1\n",
      "Norm:                          HuberT                                         \n",
      "Scale Est.:                       mad                                         \n",
      "Cov Type:                          H1                                         \n",
      "Date:                Tue, 06 Mar 2018                                         \n",
      "Time:                        16:56:40                                         \n",
      "No. Iterations:                    17                                         \n",
      "==============================================================================\n",
      "                 coef    std err          z      P>|z|      [0.025      0.975]\n",
      "------------------------------------------------------------------------------\n",
      "const          0.7978      0.032     24.801      0.000       0.735       0.861\n",
      "treated       -0.1313      0.042     -3.151      0.002      -0.213      -0.050\n",
      "==============================================================================\n",
      "\n",
      "If the model instance has been used for another fit with different fit\n",
      "parameters, then the fit options might not be the correct ones anymore .\n",
      "                     Robust linear Model Regression Results                     \n",
      "================================================================================\n",
      "Dep. Variable:     three-back_precision   No. Observations:                   47\n",
      "Model:                              RLM   Df Residuals:                       45\n",
      "Method:                            IRLS   Df Model:                            1\n",
      "Norm:                            HuberT                                         \n",
      "Scale Est.:                         mad                                         \n",
      "Cov Type:                            H1                                         \n",
      "Date:                  Tue, 06 Mar 2018                                         \n",
      "Time:                          16:56:40                                         \n",
      "No. Iterations:                      16                                         \n",
      "==============================================================================\n",
      "                 coef    std err          z      P>|z|      [0.025      0.975]\n",
      "------------------------------------------------------------------------------\n",
      "const          0.6325      0.031     20.558      0.000       0.572       0.693\n",
      "treated       -0.1658      0.040     -4.158      0.000      -0.244      -0.088\n",
      "==============================================================================\n",
      "\n",
      "If the model instance has been used for another fit with different fit\n",
      "parameters, then the fit options might not be the correct ones anymore .\n"
     ]
    }
   ],
   "source": [
    "print(sm.RLM(X['two-back_precision'], sm.add_constant(y).astype(float)).fit().summary())\n",
    "print(sm.RLM(X['three-back_precision'], sm.add_constant(y).astype(float)).fit().summary())"
   ]
  },
  {
   "cell_type": "code",
   "execution_count": 144,
   "metadata": {
    "autoscroll": false,
    "collapsed": false,
    "ein.tags": "worksheet-0",
    "slideshow": {
     "slide_type": "-"
    }
   },
   "outputs": [
    {
     "data": {
      "text/plain": [
       "                         Exogenous       Coef      [0.025      0.975]\n0                  stroop_accuracy  -0.011450   -0.032105    0.010421\n1                   stroop_med_res  54.681546  -12.688596  121.668925\n2  three-back_med_res_time_correct -34.978543 -100.396505   21.550002\n3    three-back_med_res_time_wrong -25.820173  -95.580236   34.737393\n4             three-back_precision  -0.161251   -0.240352   -0.093548\n5                three-back_recall  -0.056587   -0.139683    0.020662\n6    two-back_med_res_time_correct  27.101783  -17.665491   72.343122\n7      two-back_med_res_time_wrong -22.567876  -86.754950   47.320225\n8               two-back_precision  -0.142229   -0.210858   -0.060594\n9                  two-back_recall  -0.060274   -0.145616    0.018905"
      ]
     },
     "execution_count": 144,
     "metadata": {},
     "output_type": "execute_result"
    }
   ],
   "source": [
    "# BOOTSTRAP OLS\n",
    "\n",
    "def sample_and_fit(df, col, target):\n",
    "    df = df.sample(50, replace=True).dropna()\n",
    "    f = fit(df[col], df[target])\n",
    "    return f.params[target]\n",
    "\n",
    "def bootstrap_OLS(df, exog, endog):\n",
    "    params = [sample_and_fit(d, exog, endog) for i in range(200)]    \n",
    "    return exog, np.mean(params), np.percentile(params, 2.5), np.percentile(params, 97.5)\n",
    "\n",
    "p = [bootstrap_OLS(d, c, 'treated') for c in d.drop('treated', 1).columns]\n",
    "bootstrap_df = pd.DataFrame(p, columns = ['Exogenous', 'Coef', '[0.025', '0.975]'])\n",
    "bootstrap_df"
   ]
  },
  {
   "cell_type": "code",
   "execution_count": 483,
   "metadata": {
    "autoscroll": false,
    "collapsed": false,
    "ein.tags": "worksheet-0",
    "slideshow": {
     "slide_type": "-"
    }
   },
   "outputs": [],
   "source": [
    "def plot_hist(d, col):\n",
    "    return (d.pivot(values=col, columns='treated')\n",
    "            .plot\n",
    "            .hist(stacked=True, alpha=0.5, bins=15, title=col))"
   ]
  },
  {
   "cell_type": "code",
   "execution_count": 484,
   "metadata": {
    "autoscroll": false,
    "collapsed": false,
    "ein.tags": "worksheet-0",
    "slideshow": {
     "slide_type": "-"
    }
   },
   "outputs": [
    {
     "data": {
      "image/png": "[encoded data removed]",
      "text/plain": [
       "<matplotlib.figure.Figure at 0x7fa0a9d947b8>"
      ]
     },
     "metadata": {},
     "output_type": "display_data"
    }
   ],
   "source": [
    "_ = plot_hist(d, 'three-back_recall')"
   ]
  },
  {
   "cell_type": "code",
   "execution_count": 486,
   "metadata": {
    "autoscroll": false,
    "collapsed": false,
    "ein.tags": "worksheet-0",
    "slideshow": {
     "slide_type": "-"
    }
   },
   "outputs": [
    {
     "data": {
      "image/png": "[encoded data removed]",
      "text/plain": [
       "<matplotlib.figure.Figure at 0x7fa0a9826f60>"
      ]
     },
     "metadata": {},
     "output_type": "display_data"
    }
   ],
   "source": [
    "_ = plot_hist(d, 'three-back_precision')"
   ]
  },
  {
   "cell_type": "code",
   "execution_count": 487,
   "metadata": {
    "autoscroll": false,
    "collapsed": false,
    "ein.tags": "worksheet-0",
    "slideshow": {
     "slide_type": "-"
    }
   },
   "outputs": [
    {
     "data": {
      "image/png": "[encoded data removed]",
      "text/plain": [
       "<matplotlib.figure.Figure at 0x7fa0a9d88b38>"
      ]
     },
     "metadata": {},
     "output_type": "display_data"
    }
   ],
   "source": [
    "_ = plot_hist(d, 'two-back_recall')"
   ]
  },
  {
   "cell_type": "code",
   "execution_count": 489,
   "metadata": {
    "autoscroll": false,
    "collapsed": false,
    "ein.tags": "worksheet-0",
    "slideshow": {
     "slide_type": "-"
    }
   },
   "outputs": [
    {
     "data": {
      "image/png": "[encoded data removed]",
      "text/plain": [
       "<matplotlib.figure.Figure at 0x7fa0a963dac8>"
      ]
     },
     "metadata": {},
     "output_type": "display_data"
    }
   ],
   "source": [
    "_ = plot_hist(d, 'two-back_precision')"
   ]
  }
 ],
 "metadata": {
  "kernelspec": {
   "display_name": "Python 3",
   "name": "python3"
  },
  "language_info": {
   "codemirror_mode": {
    "name": "ipython",
    "version": 3
   },
   "file_extension": ".py",
   "mimetype": "text/x-python",
   "name": "python",
   "nbconvert_exporter": "python",
   "pygments_lexer": "ipython3",
   "version": "3.6.3"
  },
  "name": "test-performance.ipynb"
 },
 "nbformat": 4,
 "nbformat_minor": 2
}
