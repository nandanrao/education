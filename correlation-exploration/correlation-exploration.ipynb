{
 "cells": [
  {
   "cell_type": "code",
   "execution_count": 1,
   "metadata": {
    "autoscroll": false,
    "collapsed": false,
    "ein.tags": "worksheet-0",
    "slideshow": {
     "slide_type": "skip"
    }
   },
   "outputs": [],
   "source": [
    "# Load Basic Libraries\n",
    "%pylab inline\n",
    "\n",
    "import pandas as pd\n",
    "import numpy as np\n",
    "import seaborn as sns\n",
    "import matplotlib.pyplot as plt\n",
    "from IPython.display import display, Math, Latex\n",
    "from sklearn.decomposition import SparsePCA, PCA\n",
    "from sklearn.preprocessing import scale, normalize\n",
    "from sklearn.metrics.pairwise import pairwise_distances\n",
    "from sklearn.model_selection import GridSearchCV, KFold, cross_val_score"
   ]
  },
  {
   "cell_type": "code",
   "execution_count": null,
   "metadata": {
    "autoscroll": false,
    "collapsed": false,
    "ein.tags": "worksheet-0",
    "slideshow": {
     "slide_type": "skip"
    }
   },
   "outputs": [],
   "source": [
    "# Load Our Modules\n",
    "\n",
    "%load_ext autoreload\n",
    "%autoreload 2\n",
    "\n",
    "# Run this notebook outside of main module tree\n",
    "import os\n",
    "import sys\n",
    "nb_dir = os.path.split(os.getcwd())[0]\n",
    "if nb_dir not in sys.path:\n",
    "    sys.path.append(nb_dir)\n",
    "\n",
    "# Import our libs\n",
    "from surveys.personality import *\n",
    "from utils.factors import *\n",
    "from factor_rotation._analytic_rotation import target_rotation\n",
    "from factor_rotation._gpa_rotation import orthomax_objective, GPA, rotateA as rotate\n",
    "from factor_rotation._wrappers import rotate_factors"
   ]
  },
  {
   "cell_type": "code",
   "execution_count": 87,
   "metadata": {
    "autoscroll": false,
    "collapsed": false,
    "ein.tags": "worksheet-0",
    "slideshow": {
     "slide_type": "-"
    }
   },
   "outputs": [],
   "source": [
    "# Helper Functions\n",
    "\n",
    "def get_exlained_variance(df, L, PCA= True, p = 5):\n",
    "    # sklearn mangles the PCA loadings, so we treat it differently\n",
    "    if PCA:\n",
    "        F = df.dot(normalize(L).T)\n",
    "        v =  np.var(F, axis=0)/np.var(df).sum() * 100 \n",
    "    else:\n",
    "        v = np.sum(L ** 2, axis=1)/np.var(df).sum() * 100\n",
    "    print 'Summed variance of first %s components: %s' % (p,v[0:p].sum())\n",
    "    return v\n",
    "\n",
    "def get_spearman_corr(A, B):\n",
    "    _, factors = A.shape\n",
    "    return np.array([scipy.stats.spearmanr(A[:,i], B[:,i]).correlation \n",
    "                     for i in range(factors)])\n",
    "\n",
    "def make_score_df(scores, columns):\n",
    "    \"\"\" Takes 5-row array or list and makes into printable DF\"\"\"\n",
    "    df = pd.DataFrame(scores, columns = columns)\n",
    "    df.index = bf_names\n",
    "    return df\n",
    "    "
   ]
  },
  {
   "cell_type": "code",
   "execution_count": 41,
   "metadata": {
    "autoscroll": false,
    "collapsed": false,
    "ein.tags": "worksheet-0",
    "slideshow": {
     "slide_type": "skip"
    }
   },
   "outputs": [],
   "source": [
    "X = prep_X(read_surveys(\"../data\"))\n",
    "bf_survey = X.iloc[:, 0:65]\n",
    "bf_survey_scaled = pd.DataFrame(scale(bf_survey))\n",
    "others = X.iloc[:, 65:]\n",
    "others_scaled = pd.DataFrame(scale(others))\n",
    "ids = read_surveys(\"../data\").user_id\n",
    "\n",
    "# Get the big five components, sparse positie loadings for the questions that\n",
    "# refer to personality traits. \n",
    "bigfive_key = pd.read_csv(\"../data/educatalyst/Auxil/q1_key_bigfive.csv\")\n",
    "bf_comps = get_big_five_comps(bigfive_key)\n",
    "bf_names = bigfive_key.bigfive_lbl_eng.unique()\n",
    "# Projec the survey data onto those big five personality components\n",
    "bigfive = big_five_projection(bigfive_key, bf_survey)\n",
    "bigfive_scaled = big_five_projection(bigfive_key, bf_survey_scaled)"
   ]
  },
  {
   "cell_type": "markdown",
   "metadata": {
    "ein.tags": "worksheet-0",
    "slideshow": {
     "slide_type": "-"
    }
   },
   "source": [
    "# Validity of Ground Truth"
   ]
  },
  {
   "cell_type": "code",
   "execution_count": 88,
   "metadata": {
    "autoscroll": false,
    "collapsed": false,
    "ein.tags": "worksheet-0",
    "slideshow": {
     "slide_type": "-"
    }
   },
   "outputs": [
    {
     "data": {
      "text/plain": [
       "                          alpha\nEnergy / Extraversion  0.734160\nAgreeableness          0.732515\nConscientiousness      0.733814\nEmotional Instability  0.683532\nIntellect / Openness   0.746526"
      ]
     },
     "execution_count": 88,
     "metadata": {},
     "output_type": "execute_result"
    }
   ],
   "source": [
    "# Cronbach's Alpha for each trait.\n",
    "\n",
    "comps = np.ceil(bf_comps)\n",
    "inds = np.var(bf_survey).T.dot(comps)\n",
    "tots = np.var((bf_survey).dot(comps)).as_matrix()\n",
    "cronbach = (1 - (inds / tots)) / (13.0/12)\n",
    "make_score_df(cronbach, [\"alpha\"])"
   ]
  },
  {
   "cell_type": "code",
   "execution_count": 19,
   "metadata": {
    "autoscroll": false,
    "collapsed": false,
    "ein.tags": "worksheet-0",
    "slideshow": {
     "slide_type": "-"
    }
   },
   "outputs": [
    {
     "data": {
      "text/plain": [
       "<matplotlib.figure.Figure at 0x7f73acda6290>"
      ]
     },
     "metadata": {},
     "output_type": "display_data"
    }
   ],
   "source": [
    "# Variance of individual users answers within each trait.\n",
    "\n",
    "np.var(bf_survey * comps[:,0], axis = 1)\n",
    "scaled = bf_survey / np.sqrt(np.var(bf_survey))\n",
    "d = np.array([np.var(scaled * comps[:,i], axis = 1) for i in range(5)]).T\n",
    "p = sns.distplot(d.flatten(), bins = 30, kde = False)"
   ]
  },
  {
   "cell_type": "markdown",
   "metadata": {
    "ein.tags": "worksheet-0",
    "slideshow": {
     "slide_type": "slide"
    }
   },
   "source": [
    "# Regression"
   ]
  },
  {
   "cell_type": "markdown",
   "metadata": {
    "ein.tags": "worksheet-0",
    "slideshow": {
     "slide_type": "subslide"
    }
   },
   "source": [
    "# Elastic Net\n",
    "\n",
    "$$\n",
    "\\DeclareMathOperator*{\\argmin}{argmin}\n",
    "\\hat{\\beta} = argmin_{\\beta}||y - \\mathbf{X}\\beta ||^2 + \\lambda_2|| \\beta ||^2 + \\lambda_1 || \\beta ||_1\n",
    "$$"
   ]
  },
  {
   "cell_type": "code",
   "execution_count": 93,
   "metadata": {
    "autoscroll": false,
    "collapsed": false,
    "ein.tags": "worksheet-0",
    "slideshow": {
     "slide_type": "slide"
    }
   },
   "outputs": [
    {
     "name": "stdout",
     "output_type": "stream",
     "text": [
      "                       Pearson Correlation\n",
      "Energy / Extraversion             0.800271\n",
      "Agreeableness                     0.803592\n",
      "Conscientiousness                 0.840472\n",
      "Emotional Instability             0.599498\n",
      "Intellect / Openness              0.825383\n"
     ]
    }
   ],
   "source": [
    "# Run regression and report Pearson Correlations!\n",
    "\n",
    "enet = MultiElasticNet(alpha = 0.4, l1_ratio = .5) # Params chosen via 5-fold CV\n",
    "fitted = enet.fit(others, bigfive.as_matrix())\n",
    "L = np.array(enet.coef_).T\n",
    "print make_score_df(max_corr(others_scaled.dot(L), bigfive), [\"Pearson Correlation\"]) "
   ]
  },
  {
   "cell_type": "code",
   "execution_count": 92,
   "metadata": {
    "autoscroll": false,
    "collapsed": false,
    "ein.tags": "worksheet-0",
    "slideshow": {
     "slide_type": "-"
    }
   },
   "outputs": [
    {
     "data": {
      "text/plain": [
       "                       Spearmans Correlation\nEnergy / Extraversion               0.675531\nAgreeableness                       0.693583\nConscientiousness                   0.805793\nEmotional Instability               0.541523\nIntellect / Openness                0.801067"
      ]
     },
     "execution_count": 92,
     "metadata": {},
     "output_type": "execute_result"
    }
   ],
   "source": [
    "import scipy\n",
    "\n",
    "spearmans = get_spearman_corr(others_scaled.dot(L).as_matrix(), bigfive.as_matrix())\n",
    "make_score_df(spearmans, [\"Spearmans Correlation\"])"
   ]
  }
 ],
 "metadata": {
  "celltoolbar": "Slideshow",
  "kernelspec": {
   "display_name": "Python 2",
   "name": "python2"
  },
  "language_info": {
   "codemirror_mode": {
    "name": "ipython",
    "version": 2
   },
   "file_extension": ".py",
   "mimetype": "text/x-python",
   "name": "python",
   "nbconvert_exporter": "python",
   "pygments_lexer": "ipython2",
   "version": "2.7.13"
  },
  "name": "correlation-exploration.ipynb"
 },
 "nbformat": 4,
 "nbformat_minor": 2
}
